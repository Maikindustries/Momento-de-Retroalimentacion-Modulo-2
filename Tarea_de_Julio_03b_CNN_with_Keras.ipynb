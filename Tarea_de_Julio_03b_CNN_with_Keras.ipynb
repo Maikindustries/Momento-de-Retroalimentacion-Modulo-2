{
  "nbformat": 4,
  "nbformat_minor": 0,
  "metadata": {
    "coursera": {
      "course_slug": "tensor-flow-2-1",
      "graded_item_id": "g0YqY",
      "launcher_item_id": "N6gmY"
    },
    "kernelspec": {
      "display_name": "Python 3",
      "language": "python",
      "name": "python3"
    },
    "language_info": {
      "codemirror_mode": {
        "name": "ipython",
        "version": 3
      },
      "file_extension": ".py",
      "mimetype": "text/x-python",
      "name": "python",
      "nbconvert_exporter": "python",
      "pygments_lexer": "ipython3",
      "version": "3.7.1"
    },
    "colab": {
      "provenance": [],
      "collapsed_sections": []
    },
    "accelerator": "GPU",
    "gpuClass": "standard"
  },
  "cells": [
    {
      "cell_type": "markdown",
      "source": [
        "#Momento de Retroalimentación: Módulo 2 Implementación de un modelo de deep learning\n",
        "Miguel Ángel Pérez López A01750145"
      ],
      "metadata": {
        "id": "EpBMxhYatxIv"
      }
    },
    {
      "cell_type": "markdown",
      "source": [
        "# Importamos las librerías"
      ],
      "metadata": {
        "id": "7UcnjfIY1Zq5"
      }
    },
    {
      "cell_type": "code",
      "source": [
        "import keras\n",
        "import numpy as np\n",
        "import pandas as pd\n",
        "from keras import regularizers\n",
        "import matplotlib.pyplot as plt\n",
        "from keras.utils import np_utils\n",
        "from keras.datasets import cifar10\n",
        "from keras.models import Sequential\n",
        "from keras import datasets, layers, models\n",
        "from keras.layers import Dense, Dropout, BatchNormalization, Conv2D, MaxPooling2D, Flatten\n",
        "%matplotlib inline"
      ],
      "metadata": {
        "id": "xQ6mXiAK7q13"
      },
      "execution_count": 1,
      "outputs": []
    },
    {
      "cell_type": "markdown",
      "source": [
        "# Cargar el dataset"
      ],
      "metadata": {
        "id": "OEYbaPFQBg2Q"
      }
    },
    {
      "cell_type": "code",
      "source": [
        "(train_images, train_labels), (test_images, test_labels) = datasets.cifar10.load_data()"
      ],
      "metadata": {
        "id": "-yLT60U-7uHk",
        "colab": {
          "base_uri": "https://localhost:8080/"
        },
        "outputId": "9bb1bd03-d656-4072-ea6b-823e67732d1f"
      },
      "execution_count": 2,
      "outputs": [
        {
          "output_type": "stream",
          "name": "stdout",
          "text": [
            "Downloading data from https://www.cs.toronto.edu/~kriz/cifar-10-python.tar.gz\n",
            "170498071/170498071 [==============================] - 3s 0us/step\n"
          ]
        }
      ]
    },
    {
      "cell_type": "markdown",
      "source": [
        "# Los labels son:\n",
        "0\tairplane \\\n",
        "1\tautomobile \\\n",
        "2\tbird \\\n",
        "3\tcat \\\n",
        "4\tdeer \\\n",
        "5\tdog \\\n",
        "6\tfrog \\\n",
        "7\thorse \\\n",
        "8\tship \\\n",
        "9\ttruck \\"
      ],
      "metadata": {
        "id": "bZ4x9bPfujrR"
      }
    },
    {
      "cell_type": "markdown",
      "source": [
        "Validamos que el shape del dataset sea correcto"
      ],
      "metadata": {
        "id": "8LhatuJMtYl4"
      }
    },
    {
      "cell_type": "code",
      "source": [
        "print(train_images.shape)\n",
        "print(train_labels.shape)"
      ],
      "metadata": {
        "id": "-Aaw3XHEPyLL",
        "colab": {
          "base_uri": "https://localhost:8080/"
        },
        "outputId": "1093859a-0d5f-43ac-9de9-8c69eff16164"
      },
      "execution_count": 3,
      "outputs": [
        {
          "output_type": "stream",
          "name": "stdout",
          "text": [
            "(50000, 32, 32, 3)\n",
            "(50000, 1)\n"
          ]
        }
      ]
    },
    {
      "cell_type": "markdown",
      "source": [
        "# Separamos el dataset de train en train y validation"
      ],
      "metadata": {
        "id": "HPCMKukCBpUP"
      }
    },
    {
      "cell_type": "code",
      "source": [
        "from sklearn.model_selection import train_test_split\n",
        "train_images, validation_images, train_labels, validation_labels = train_test_split(train_images, train_labels, test_size=.3)"
      ],
      "metadata": {
        "id": "s4yC4aJvPEkm"
      },
      "execution_count": 4,
      "outputs": []
    },
    {
      "cell_type": "markdown",
      "source": [
        "Verificamos que las dimensiones sean correctas"
      ],
      "metadata": {
        "id": "KYMIbhbFB26M"
      }
    },
    {
      "cell_type": "code",
      "source": [
        "print(train_images.shape)\n",
        "print(train_labels.shape)\n",
        "print(validation_images.shape)\n",
        "print(validation_labels.shape)"
      ],
      "metadata": {
        "id": "SKfAYzIsQxGt",
        "colab": {
          "base_uri": "https://localhost:8080/"
        },
        "outputId": "66a6e5be-927d-4504-a3bf-909c327710b5"
      },
      "execution_count": 5,
      "outputs": [
        {
          "output_type": "stream",
          "name": "stdout",
          "text": [
            "(35000, 32, 32, 3)\n",
            "(35000, 1)\n",
            "(15000, 32, 32, 3)\n",
            "(15000, 1)\n"
          ]
        }
      ]
    },
    {
      "cell_type": "code",
      "source": [
        "# Convertimos las imágenes a tipo float\n",
        "train_images = train_images.astype('float32')\n",
        "test_images = test_images.astype('float32')\n",
        "validation_images = validation_images.astype('float32')\n",
        "\n",
        "# Dividimos entre 255 para que los valores estén entre 0 y 1\n",
        "train_images = train_images / 255\n",
        "test_images = test_images / 255 \n",
        "validation_images = validation_images / 255\n",
        "\n",
        "# Le aplicamos one hot encoding a los labels\n",
        "num_classes = 10\n",
        "train_labels = np_utils.to_categorical(train_labels, num_classes)\n",
        "test_labels = np_utils.to_categorical(test_labels, num_classes)\n",
        "validation_labels = np_utils.to_categorical(validation_labels, num_classes)"
      ],
      "metadata": {
        "id": "jzjeee0p7wT5"
      },
      "execution_count": 6,
      "outputs": []
    },
    {
      "cell_type": "markdown",
      "source": [
        "# Definimos las capas de la red"
      ],
      "metadata": {
        "id": "VyC3-SGDCZzP"
      }
    },
    {
      "cell_type": "markdown",
      "source": [
        "1er iteración \\\n",
        "Para esta iteración incluí varias capas de maxpooling, en este caso ya no se podías poner más de esas porque las dimensiones se reducirían a menos de 1 y eso es un error. \\\n",
        "\n",
        "Esta primera iteración sólo fue para probar una red convolucional básica"
      ],
      "metadata": {
        "id": "07tGkiD-tCIc"
      }
    },
    {
      "cell_type": "code",
      "source": [
        "model  = Sequential([\n",
        "  Conv2D(256, kernel_size=4, padding='same', activation=\"relu\", input_shape=train_images[0].shape),\n",
        "  MaxPooling2D((2, 2)),\n",
        "  Conv2D(32, (3, 3), padding='same', activation='relu'),\n",
        "  MaxPooling2D(pool_size=2),\n",
        "  Conv2D(64, (3,3), padding='same', activation='relu'),\n",
        "  MaxPooling2D(pool_size=2),\n",
        "  Conv2D(64, (3,3), padding='same', activation='relu'),\n",
        "  MaxPooling2D(pool_size=2),\n",
        "  \n",
        "  Flatten(),\n",
        "  Dropout(0.2),\n",
        "  Dense(128, activation='relu'),\n",
        "  Dense(10, activation='softmax')\n",
        "])\n",
        "model.summary()"
      ],
      "metadata": {
        "colab": {
          "base_uri": "https://localhost:8080/"
        },
        "id": "usniIwp3si3Y",
        "outputId": "53856f33-6ce9-482f-c352-c6e9555dca17"
      },
      "execution_count": 7,
      "outputs": [
        {
          "output_type": "stream",
          "name": "stdout",
          "text": [
            "Model: \"sequential\"\n",
            "_________________________________________________________________\n",
            " Layer (type)                Output Shape              Param #   \n",
            "=================================================================\n",
            " conv2d (Conv2D)             (None, 32, 32, 256)       12544     \n",
            "                                                                 \n",
            " max_pooling2d (MaxPooling2D  (None, 16, 16, 256)      0         \n",
            " )                                                               \n",
            "                                                                 \n",
            " conv2d_1 (Conv2D)           (None, 16, 16, 32)        73760     \n",
            "                                                                 \n",
            " max_pooling2d_1 (MaxPooling  (None, 8, 8, 32)         0         \n",
            " 2D)                                                             \n",
            "                                                                 \n",
            " conv2d_2 (Conv2D)           (None, 8, 8, 64)          18496     \n",
            "                                                                 \n",
            " max_pooling2d_2 (MaxPooling  (None, 4, 4, 64)         0         \n",
            " 2D)                                                             \n",
            "                                                                 \n",
            " conv2d_3 (Conv2D)           (None, 4, 4, 64)          36928     \n",
            "                                                                 \n",
            " max_pooling2d_3 (MaxPooling  (None, 2, 2, 64)         0         \n",
            " 2D)                                                             \n",
            "                                                                 \n",
            " flatten (Flatten)           (None, 256)               0         \n",
            "                                                                 \n",
            " dropout (Dropout)           (None, 256)               0         \n",
            "                                                                 \n",
            " dense (Dense)               (None, 128)               32896     \n",
            "                                                                 \n",
            " dense_1 (Dense)             (None, 10)                1290      \n",
            "                                                                 \n",
            "=================================================================\n",
            "Total params: 175,914\n",
            "Trainable params: 175,914\n",
            "Non-trainable params: 0\n",
            "_________________________________________________________________\n"
          ]
        }
      ]
    },
    {
      "cell_type": "code",
      "source": [
        "model.compile(optimizer='adam', loss=keras.losses.categorical_crossentropy, metrics=['accuracy'])"
      ],
      "metadata": {
        "id": "--efXwcLs-cC"
      },
      "execution_count": 8,
      "outputs": []
    },
    {
      "cell_type": "code",
      "source": [
        "history = model.fit(train_images, train_labels, epochs=10,\n",
        "                    validation_data=(validation_images, validation_labels))"
      ],
      "metadata": {
        "colab": {
          "base_uri": "https://localhost:8080/"
        },
        "id": "byq5vCuhsiwb",
        "outputId": "abf3bb28-f908-468c-e66c-7776a8aaa901"
      },
      "execution_count": 9,
      "outputs": [
        {
          "output_type": "stream",
          "name": "stdout",
          "text": [
            "Epoch 1/10\n",
            "1094/1094 [==============================] - 20s 10ms/step - loss: 1.7168 - accuracy: 0.3642 - val_loss: 1.4031 - val_accuracy: 0.4908\n",
            "Epoch 2/10\n",
            "1094/1094 [==============================] - 10s 9ms/step - loss: 1.3529 - accuracy: 0.5078 - val_loss: 1.2715 - val_accuracy: 0.5379\n",
            "Epoch 3/10\n",
            "1094/1094 [==============================] - 11s 10ms/step - loss: 1.2041 - accuracy: 0.5677 - val_loss: 1.1504 - val_accuracy: 0.5847\n",
            "Epoch 4/10\n",
            "1094/1094 [==============================] - 11s 10ms/step - loss: 1.1087 - accuracy: 0.6048 - val_loss: 1.1216 - val_accuracy: 0.6030\n",
            "Epoch 5/10\n",
            "1094/1094 [==============================] - 11s 10ms/step - loss: 1.0307 - accuracy: 0.6325 - val_loss: 1.0669 - val_accuracy: 0.6253\n",
            "Epoch 6/10\n",
            "1094/1094 [==============================] - 12s 11ms/step - loss: 0.9607 - accuracy: 0.6555 - val_loss: 1.0185 - val_accuracy: 0.6381\n",
            "Epoch 7/10\n",
            "1094/1094 [==============================] - 11s 10ms/step - loss: 0.9155 - accuracy: 0.6755 - val_loss: 0.9938 - val_accuracy: 0.6491\n",
            "Epoch 8/10\n",
            "1094/1094 [==============================] - 12s 11ms/step - loss: 0.8631 - accuracy: 0.6926 - val_loss: 0.9772 - val_accuracy: 0.6569\n",
            "Epoch 9/10\n",
            "1094/1094 [==============================] - 10s 9ms/step - loss: 0.8255 - accuracy: 0.7070 - val_loss: 0.9920 - val_accuracy: 0.6519\n",
            "Epoch 10/10\n",
            "1094/1094 [==============================] - 10s 9ms/step - loss: 0.7886 - accuracy: 0.7186 - val_loss: 0.9639 - val_accuracy: 0.6688\n"
          ]
        }
      ]
    },
    {
      "cell_type": "markdown",
      "source": [
        "El accuracy es decente pero el validation accuracy es muy bajo. \\\n",
        "Un incremento de capas puede hacer que mejore."
      ],
      "metadata": {
        "id": "ouL_Iw084UOz"
      }
    },
    {
      "cell_type": "markdown",
      "source": [
        "2da iteración\n",
        "Agregué más capas convolucionales para ayudar a la red a que detecte más patrones. \\\n",
        "Además agregué capas después del Flatten para que la red sea más profunda.\n"
      ],
      "metadata": {
        "id": "3hPuGgYftGrk"
      }
    },
    {
      "cell_type": "code",
      "source": [
        "model  = Sequential([\n",
        "  Conv2D(256, kernel_size=4, padding='same', activation=\"relu\", input_shape=train_images[0].shape),\n",
        "  MaxPooling2D((2, 2)),\n",
        "  Conv2D(32, (3, 3), padding='same', activation='relu'),\n",
        "  Conv2D(32, (3, 3), padding='same', activation='relu'),\n",
        "  MaxPooling2D(pool_size=2),\n",
        "  Conv2D(64, (3,3), padding='same', activation='relu'),\n",
        "  Conv2D(64, (3,3), padding='same', activation='relu'),\n",
        "  MaxPooling2D(pool_size=2),\n",
        "  Conv2D(8, (3,3), padding='same', activation=\"relu\"),\n",
        "  MaxPooling2D(pool_size=2),\n",
        "  \n",
        "  Flatten(),\n",
        "  Dropout(0.2),\n",
        "  Dense(128, activation='relu'),\n",
        "  Dense(64, activation='relu'),\n",
        "  Dense(32, activation='relu'),\n",
        "  Dense(16, activation='relu'),\n",
        "  Dense(10, activation='softmax')\n",
        "])\n",
        "model.summary()"
      ],
      "metadata": {
        "id": "4IyZLI1lDbnz",
        "colab": {
          "base_uri": "https://localhost:8080/"
        },
        "outputId": "1c9569eb-c806-4f14-eab7-67566f858b3f"
      },
      "execution_count": 10,
      "outputs": [
        {
          "output_type": "stream",
          "name": "stdout",
          "text": [
            "Model: \"sequential_1\"\n",
            "_________________________________________________________________\n",
            " Layer (type)                Output Shape              Param #   \n",
            "=================================================================\n",
            " conv2d_4 (Conv2D)           (None, 32, 32, 256)       12544     \n",
            "                                                                 \n",
            " max_pooling2d_4 (MaxPooling  (None, 16, 16, 256)      0         \n",
            " 2D)                                                             \n",
            "                                                                 \n",
            " conv2d_5 (Conv2D)           (None, 16, 16, 32)        73760     \n",
            "                                                                 \n",
            " conv2d_6 (Conv2D)           (None, 16, 16, 32)        9248      \n",
            "                                                                 \n",
            " max_pooling2d_5 (MaxPooling  (None, 8, 8, 32)         0         \n",
            " 2D)                                                             \n",
            "                                                                 \n",
            " conv2d_7 (Conv2D)           (None, 8, 8, 64)          18496     \n",
            "                                                                 \n",
            " conv2d_8 (Conv2D)           (None, 8, 8, 64)          36928     \n",
            "                                                                 \n",
            " max_pooling2d_6 (MaxPooling  (None, 4, 4, 64)         0         \n",
            " 2D)                                                             \n",
            "                                                                 \n",
            " conv2d_9 (Conv2D)           (None, 4, 4, 8)           4616      \n",
            "                                                                 \n",
            " max_pooling2d_7 (MaxPooling  (None, 2, 2, 8)          0         \n",
            " 2D)                                                             \n",
            "                                                                 \n",
            " flatten_1 (Flatten)         (None, 32)                0         \n",
            "                                                                 \n",
            " dropout_1 (Dropout)         (None, 32)                0         \n",
            "                                                                 \n",
            " dense_2 (Dense)             (None, 128)               4224      \n",
            "                                                                 \n",
            " dense_3 (Dense)             (None, 64)                8256      \n",
            "                                                                 \n",
            " dense_4 (Dense)             (None, 32)                2080      \n",
            "                                                                 \n",
            " dense_5 (Dense)             (None, 16)                528       \n",
            "                                                                 \n",
            " dense_6 (Dense)             (None, 10)                170       \n",
            "                                                                 \n",
            "=================================================================\n",
            "Total params: 170,850\n",
            "Trainable params: 170,850\n",
            "Non-trainable params: 0\n",
            "_________________________________________________________________\n"
          ]
        }
      ]
    },
    {
      "cell_type": "code",
      "source": [
        "model.compile(optimizer='adam', loss=keras.losses.categorical_crossentropy, metrics=['accuracy'])"
      ],
      "metadata": {
        "id": "oRKoc94gD-ww"
      },
      "execution_count": 11,
      "outputs": []
    },
    {
      "cell_type": "code",
      "source": [
        "history = model.fit(train_images, train_labels, epochs=10,\n",
        "                    validation_data=(validation_images, validation_labels))"
      ],
      "metadata": {
        "colab": {
          "base_uri": "https://localhost:8080/"
        },
        "id": "dchYBHXSDuTY",
        "outputId": "7e8c5004-43d4-48d9-e37c-fd325fa97edc"
      },
      "execution_count": 12,
      "outputs": [
        {
          "output_type": "stream",
          "name": "stdout",
          "text": [
            "Epoch 1/10\n",
            "1094/1094 [==============================] - 13s 11ms/step - loss: 2.0072 - accuracy: 0.2406 - val_loss: 1.7397 - val_accuracy: 0.3465\n",
            "Epoch 2/10\n",
            "1094/1094 [==============================] - 11s 10ms/step - loss: 1.6866 - accuracy: 0.3657 - val_loss: 1.5812 - val_accuracy: 0.4097\n",
            "Epoch 3/10\n",
            "1094/1094 [==============================] - 10s 10ms/step - loss: 1.5452 - accuracy: 0.4249 - val_loss: 1.4926 - val_accuracy: 0.4411\n",
            "Epoch 4/10\n",
            "1094/1094 [==============================] - 11s 10ms/step - loss: 1.4430 - accuracy: 0.4646 - val_loss: 1.3511 - val_accuracy: 0.5045\n",
            "Epoch 5/10\n",
            "1094/1094 [==============================] - 11s 10ms/step - loss: 1.3591 - accuracy: 0.5012 - val_loss: 1.3042 - val_accuracy: 0.5201\n",
            "Epoch 6/10\n",
            "1094/1094 [==============================] - 11s 10ms/step - loss: 1.2886 - accuracy: 0.5293 - val_loss: 1.2588 - val_accuracy: 0.5369\n",
            "Epoch 7/10\n",
            "1094/1094 [==============================] - 12s 11ms/step - loss: 1.2334 - accuracy: 0.5552 - val_loss: 1.2249 - val_accuracy: 0.5581\n",
            "Epoch 8/10\n",
            "1094/1094 [==============================] - 10s 9ms/step - loss: 1.1828 - accuracy: 0.5739 - val_loss: 1.1884 - val_accuracy: 0.5725\n",
            "Epoch 9/10\n",
            "1094/1094 [==============================] - 11s 10ms/step - loss: 1.1296 - accuracy: 0.5933 - val_loss: 1.1703 - val_accuracy: 0.5787\n",
            "Epoch 10/10\n",
            "1094/1094 [==============================] - 10s 9ms/step - loss: 1.0864 - accuracy: 0.6130 - val_loss: 1.1479 - val_accuracy: 0.5915\n"
          ]
        }
      ]
    },
    {
      "cell_type": "markdown",
      "source": [
        "El accuracy del conjunto de validación es muy bajo y el error fue demasiado alto, incluso mayor que la primer iteración. \\\n",
        "Después de correrlo varias veces se infiere que es por la red y no por los pesos aleatorios."
      ],
      "metadata": {
        "id": "Ufpj2eK3Dx95"
      }
    },
    {
      "cell_type": "markdown",
      "source": [
        "3ra iteración\n",
        "\n",
        "Agregué más capas de convolución y reduje la cantidad de capas después del Flatten"
      ],
      "metadata": {
        "id": "4kQtmRYftJlN"
      }
    },
    {
      "cell_type": "code",
      "source": [
        "model  = Sequential([\n",
        "    Conv2D(64, (3, 3), padding='same', activation=\"relu\", input_shape=train_images[0].shape),\n",
        "    BatchNormalization(),\n",
        "    Conv2D(64, (3, 3), padding='same', activation='relu'),\n",
        "    Conv2D(32, (3, 3), padding='same', activation='relu'),\n",
        "    MaxPooling2D((2, 2)),\n",
        "    Dropout(0.3),\n",
        "\n",
        "    Conv2D(32, (3, 3), padding='same', activation='relu'),\n",
        "    Conv2D(32, (3, 3), padding='same', activation='relu'),\n",
        "    BatchNormalization(),\n",
        "    MaxPooling2D(pool_size=2),\n",
        "    Conv2D(16, (3, 3), padding='same', activation='relu'),\n",
        "    \n",
        "    Conv2D(16, (3,3), padding='same', activation='relu'),\n",
        "    Conv2D(16, (3,3), padding='same', activation='relu'),\n",
        "    BatchNormalization(),\n",
        "    MaxPooling2D(pool_size=2),\n",
        "    Conv2D(8, (3,3), padding='same', activation='relu'),\n",
        "    \n",
        "    Conv2D(8, (3,3), padding='same', activation=\"relu\"),\n",
        "    Conv2D(8, (3,3), padding='same', activation=\"relu\"),\n",
        "    BatchNormalization(),\n",
        "    MaxPooling2D(pool_size=2),\n",
        "    Dropout(0.2),\n",
        "    \n",
        "    Flatten(),\n",
        "    Dense(256, activation='relu'),\n",
        "    Dropout(0.2),\n",
        "    Dense(128, activation='relu'),\n",
        "    Dense(10, activation='softmax')\n",
        "  ])\n",
        "model.summary()"
      ],
      "metadata": {
        "id": "Ub3r_8WS7wRK",
        "colab": {
          "base_uri": "https://localhost:8080/"
        },
        "outputId": "9716bcab-eff8-450d-b008-107079589fcd"
      },
      "execution_count": 13,
      "outputs": [
        {
          "output_type": "stream",
          "name": "stdout",
          "text": [
            "Model: \"sequential_2\"\n",
            "_________________________________________________________________\n",
            " Layer (type)                Output Shape              Param #   \n",
            "=================================================================\n",
            " conv2d_10 (Conv2D)          (None, 32, 32, 64)        1792      \n",
            "                                                                 \n",
            " batch_normalization (BatchN  (None, 32, 32, 64)       256       \n",
            " ormalization)                                                   \n",
            "                                                                 \n",
            " conv2d_11 (Conv2D)          (None, 32, 32, 64)        36928     \n",
            "                                                                 \n",
            " conv2d_12 (Conv2D)          (None, 32, 32, 32)        18464     \n",
            "                                                                 \n",
            " max_pooling2d_8 (MaxPooling  (None, 16, 16, 32)       0         \n",
            " 2D)                                                             \n",
            "                                                                 \n",
            " dropout_2 (Dropout)         (None, 16, 16, 32)        0         \n",
            "                                                                 \n",
            " conv2d_13 (Conv2D)          (None, 16, 16, 32)        9248      \n",
            "                                                                 \n",
            " conv2d_14 (Conv2D)          (None, 16, 16, 32)        9248      \n",
            "                                                                 \n",
            " batch_normalization_1 (Batc  (None, 16, 16, 32)       128       \n",
            " hNormalization)                                                 \n",
            "                                                                 \n",
            " max_pooling2d_9 (MaxPooling  (None, 8, 8, 32)         0         \n",
            " 2D)                                                             \n",
            "                                                                 \n",
            " conv2d_15 (Conv2D)          (None, 8, 8, 16)          4624      \n",
            "                                                                 \n",
            " conv2d_16 (Conv2D)          (None, 8, 8, 16)          2320      \n",
            "                                                                 \n",
            " conv2d_17 (Conv2D)          (None, 8, 8, 16)          2320      \n",
            "                                                                 \n",
            " batch_normalization_2 (Batc  (None, 8, 8, 16)         64        \n",
            " hNormalization)                                                 \n",
            "                                                                 \n",
            " max_pooling2d_10 (MaxPoolin  (None, 4, 4, 16)         0         \n",
            " g2D)                                                            \n",
            "                                                                 \n",
            " conv2d_18 (Conv2D)          (None, 4, 4, 8)           1160      \n",
            "                                                                 \n",
            " conv2d_19 (Conv2D)          (None, 4, 4, 8)           584       \n",
            "                                                                 \n",
            " conv2d_20 (Conv2D)          (None, 4, 4, 8)           584       \n",
            "                                                                 \n",
            " batch_normalization_3 (Batc  (None, 4, 4, 8)          32        \n",
            " hNormalization)                                                 \n",
            "                                                                 \n",
            " max_pooling2d_11 (MaxPoolin  (None, 2, 2, 8)          0         \n",
            " g2D)                                                            \n",
            "                                                                 \n",
            " dropout_3 (Dropout)         (None, 2, 2, 8)           0         \n",
            "                                                                 \n",
            " flatten_2 (Flatten)         (None, 32)                0         \n",
            "                                                                 \n",
            " dense_7 (Dense)             (None, 256)               8448      \n",
            "                                                                 \n",
            " dropout_4 (Dropout)         (None, 256)               0         \n",
            "                                                                 \n",
            " dense_8 (Dense)             (None, 128)               32896     \n",
            "                                                                 \n",
            " dense_9 (Dense)             (None, 10)                1290      \n",
            "                                                                 \n",
            "=================================================================\n",
            "Total params: 130,386\n",
            "Trainable params: 130,146\n",
            "Non-trainable params: 240\n",
            "_________________________________________________________________\n"
          ]
        }
      ]
    },
    {
      "cell_type": "markdown",
      "source": [
        "Compilamos el modelo"
      ],
      "metadata": {
        "id": "tt1Y3q4PULnA"
      }
    },
    {
      "cell_type": "code",
      "source": [
        "model.compile(optimizer='adam', loss=keras.losses.categorical_crossentropy, metrics=['accuracy'])"
      ],
      "metadata": {
        "id": "dmAZz96v7wOw"
      },
      "execution_count": 14,
      "outputs": []
    },
    {
      "cell_type": "markdown",
      "source": [
        "# Corremos el modelo final"
      ],
      "metadata": {
        "id": "JjhsNJVpCrIw"
      }
    },
    {
      "cell_type": "code",
      "source": [
        "history = model.fit(train_images, train_labels, epochs=25,\n",
        "                    validation_data=(validation_images, validation_labels))"
      ],
      "metadata": {
        "id": "32WECbJX7wLe",
        "colab": {
          "base_uri": "https://localhost:8080/"
        },
        "outputId": "45801f79-5487-46c1-b1d2-44af6f4b3666"
      },
      "execution_count": 15,
      "outputs": [
        {
          "output_type": "stream",
          "name": "stdout",
          "text": [
            "Epoch 1/25\n",
            "1094/1094 [==============================] - 15s 12ms/step - loss: 1.7530 - accuracy: 0.3271 - val_loss: 1.5992 - val_accuracy: 0.4075\n",
            "Epoch 2/25\n",
            "1094/1094 [==============================] - 12s 11ms/step - loss: 1.4227 - accuracy: 0.4755 - val_loss: 1.2556 - val_accuracy: 0.5353\n",
            "Epoch 3/25\n",
            "1094/1094 [==============================] - 12s 11ms/step - loss: 1.2389 - accuracy: 0.5528 - val_loss: 1.2513 - val_accuracy: 0.5489\n",
            "Epoch 4/25\n",
            "1094/1094 [==============================] - 13s 12ms/step - loss: 1.1288 - accuracy: 0.5948 - val_loss: 1.2056 - val_accuracy: 0.5649\n",
            "Epoch 5/25\n",
            "1094/1094 [==============================] - 12s 11ms/step - loss: 1.0558 - accuracy: 0.6218 - val_loss: 1.2965 - val_accuracy: 0.5463\n",
            "Epoch 6/25\n",
            "1094/1094 [==============================] - 13s 12ms/step - loss: 1.0040 - accuracy: 0.6430 - val_loss: 1.2652 - val_accuracy: 0.5679\n",
            "Epoch 7/25\n",
            "1094/1094 [==============================] - 13s 12ms/step - loss: 0.9524 - accuracy: 0.6632 - val_loss: 1.0469 - val_accuracy: 0.6347\n",
            "Epoch 8/25\n",
            "1094/1094 [==============================] - 12s 11ms/step - loss: 0.9135 - accuracy: 0.6775 - val_loss: 0.9819 - val_accuracy: 0.6454\n",
            "Epoch 9/25\n",
            "1094/1094 [==============================] - 14s 13ms/step - loss: 0.8812 - accuracy: 0.6889 - val_loss: 0.9013 - val_accuracy: 0.6761\n",
            "Epoch 10/25\n",
            "1094/1094 [==============================] - 13s 12ms/step - loss: 0.8432 - accuracy: 0.7078 - val_loss: 1.0751 - val_accuracy: 0.6285\n",
            "Epoch 11/25\n",
            "1094/1094 [==============================] - 12s 11ms/step - loss: 0.8178 - accuracy: 0.7150 - val_loss: 0.8373 - val_accuracy: 0.7047\n",
            "Epoch 12/25\n",
            "1094/1094 [==============================] - 13s 12ms/step - loss: 0.7848 - accuracy: 0.7283 - val_loss: 0.8688 - val_accuracy: 0.6963\n",
            "Epoch 13/25\n",
            "1094/1094 [==============================] - 13s 12ms/step - loss: 0.7667 - accuracy: 0.7337 - val_loss: 0.7860 - val_accuracy: 0.7205\n",
            "Epoch 14/25\n",
            "1094/1094 [==============================] - 13s 12ms/step - loss: 0.7407 - accuracy: 0.7440 - val_loss: 1.1668 - val_accuracy: 0.6175\n",
            "Epoch 15/25\n",
            "1094/1094 [==============================] - 12s 11ms/step - loss: 0.7259 - accuracy: 0.7473 - val_loss: 0.9416 - val_accuracy: 0.6896\n",
            "Epoch 16/25\n",
            "1094/1094 [==============================] - 12s 11ms/step - loss: 0.7090 - accuracy: 0.7558 - val_loss: 0.8407 - val_accuracy: 0.7059\n",
            "Epoch 17/25\n",
            "1094/1094 [==============================] - 12s 11ms/step - loss: 0.6900 - accuracy: 0.7615 - val_loss: 0.7797 - val_accuracy: 0.7337\n",
            "Epoch 18/25\n",
            "1094/1094 [==============================] - 12s 11ms/step - loss: 0.6755 - accuracy: 0.7651 - val_loss: 0.8107 - val_accuracy: 0.7237\n",
            "Epoch 19/25\n",
            "1094/1094 [==============================] - 13s 12ms/step - loss: 0.6573 - accuracy: 0.7746 - val_loss: 0.8242 - val_accuracy: 0.7129\n",
            "Epoch 20/25\n",
            "1094/1094 [==============================] - 13s 12ms/step - loss: 0.6460 - accuracy: 0.7788 - val_loss: 0.8266 - val_accuracy: 0.7232\n",
            "Epoch 21/25\n",
            "1094/1094 [==============================] - 12s 11ms/step - loss: 0.6379 - accuracy: 0.7787 - val_loss: 0.8499 - val_accuracy: 0.7124\n",
            "Epoch 22/25\n",
            "1094/1094 [==============================] - 12s 11ms/step - loss: 0.6287 - accuracy: 0.7847 - val_loss: 0.7625 - val_accuracy: 0.7349\n",
            "Epoch 23/25\n",
            "1094/1094 [==============================] - 12s 11ms/step - loss: 0.6132 - accuracy: 0.7883 - val_loss: 0.7518 - val_accuracy: 0.7428\n",
            "Epoch 24/25\n",
            "1094/1094 [==============================] - 12s 11ms/step - loss: 0.6044 - accuracy: 0.7923 - val_loss: 0.7709 - val_accuracy: 0.7353\n",
            "Epoch 25/25\n",
            "1094/1094 [==============================] - 12s 11ms/step - loss: 0.5946 - accuracy: 0.7934 - val_loss: 0.6749 - val_accuracy: 0.7691\n"
          ]
        }
      ]
    },
    {
      "cell_type": "code",
      "source": [
        "# Cargamos el history del modelo en un dataframe\n",
        "frame = pd.DataFrame(history.history)"
      ],
      "metadata": {
        "id": "0Cq43L7Q7wBB"
      },
      "execution_count": 16,
      "outputs": []
    },
    {
      "cell_type": "code",
      "source": [
        "frame"
      ],
      "metadata": {
        "id": "uoXVdZsfBBQb",
        "colab": {
          "base_uri": "https://localhost:8080/",
          "height": 833
        },
        "outputId": "c9e9b4ab-cbb6-4d62-fd2c-ec8224204509"
      },
      "execution_count": 17,
      "outputs": [
        {
          "output_type": "execute_result",
          "data": {
            "text/plain": [
              "        loss  accuracy  val_loss  val_accuracy\n",
              "0   1.752968  0.327057  1.599249      0.407533\n",
              "1   1.422660  0.475543  1.255614      0.535333\n",
              "2   1.238943  0.552829  1.251327      0.548933\n",
              "3   1.128783  0.594829  1.205605      0.564867\n",
              "4   1.055759  0.621800  1.296467      0.546267\n",
              "5   1.004048  0.643029  1.265186      0.567867\n",
              "6   0.952427  0.663229  1.046890      0.634733\n",
              "7   0.913486  0.677543  0.981854      0.645400\n",
              "8   0.881169  0.688886  0.901272      0.676067\n",
              "9   0.843193  0.707771  1.075083      0.628467\n",
              "10  0.817827  0.714971  0.837323      0.704667\n",
              "11  0.784835  0.728343  0.868759      0.696333\n",
              "12  0.766659  0.733743  0.785951      0.720467\n",
              "13  0.740701  0.744029  1.166831      0.617533\n",
              "14  0.725908  0.747314  0.941555      0.689600\n",
              "15  0.709009  0.755829  0.840746      0.705867\n",
              "16  0.689994  0.761486  0.779664      0.733733\n",
              "17  0.675514  0.765057  0.810705      0.723667\n",
              "18  0.657334  0.774600  0.824225      0.712933\n",
              "19  0.645953  0.778771  0.826603      0.723200\n",
              "20  0.637891  0.778686  0.849906      0.712400\n",
              "21  0.628663  0.784743  0.762509      0.734867\n",
              "22  0.613155  0.788343  0.751835      0.742800\n",
              "23  0.604350  0.792314  0.770924      0.735333\n",
              "24  0.594551  0.793429  0.674854      0.769133"
            ],
            "text/html": [
              "\n",
              "  <div id=\"df-c08a86ab-ff05-4eda-b7a7-e82f7052f51c\">\n",
              "    <div class=\"colab-df-container\">\n",
              "      <div>\n",
              "<style scoped>\n",
              "    .dataframe tbody tr th:only-of-type {\n",
              "        vertical-align: middle;\n",
              "    }\n",
              "\n",
              "    .dataframe tbody tr th {\n",
              "        vertical-align: top;\n",
              "    }\n",
              "\n",
              "    .dataframe thead th {\n",
              "        text-align: right;\n",
              "    }\n",
              "</style>\n",
              "<table border=\"1\" class=\"dataframe\">\n",
              "  <thead>\n",
              "    <tr style=\"text-align: right;\">\n",
              "      <th></th>\n",
              "      <th>loss</th>\n",
              "      <th>accuracy</th>\n",
              "      <th>val_loss</th>\n",
              "      <th>val_accuracy</th>\n",
              "    </tr>\n",
              "  </thead>\n",
              "  <tbody>\n",
              "    <tr>\n",
              "      <th>0</th>\n",
              "      <td>1.752968</td>\n",
              "      <td>0.327057</td>\n",
              "      <td>1.599249</td>\n",
              "      <td>0.407533</td>\n",
              "    </tr>\n",
              "    <tr>\n",
              "      <th>1</th>\n",
              "      <td>1.422660</td>\n",
              "      <td>0.475543</td>\n",
              "      <td>1.255614</td>\n",
              "      <td>0.535333</td>\n",
              "    </tr>\n",
              "    <tr>\n",
              "      <th>2</th>\n",
              "      <td>1.238943</td>\n",
              "      <td>0.552829</td>\n",
              "      <td>1.251327</td>\n",
              "      <td>0.548933</td>\n",
              "    </tr>\n",
              "    <tr>\n",
              "      <th>3</th>\n",
              "      <td>1.128783</td>\n",
              "      <td>0.594829</td>\n",
              "      <td>1.205605</td>\n",
              "      <td>0.564867</td>\n",
              "    </tr>\n",
              "    <tr>\n",
              "      <th>4</th>\n",
              "      <td>1.055759</td>\n",
              "      <td>0.621800</td>\n",
              "      <td>1.296467</td>\n",
              "      <td>0.546267</td>\n",
              "    </tr>\n",
              "    <tr>\n",
              "      <th>5</th>\n",
              "      <td>1.004048</td>\n",
              "      <td>0.643029</td>\n",
              "      <td>1.265186</td>\n",
              "      <td>0.567867</td>\n",
              "    </tr>\n",
              "    <tr>\n",
              "      <th>6</th>\n",
              "      <td>0.952427</td>\n",
              "      <td>0.663229</td>\n",
              "      <td>1.046890</td>\n",
              "      <td>0.634733</td>\n",
              "    </tr>\n",
              "    <tr>\n",
              "      <th>7</th>\n",
              "      <td>0.913486</td>\n",
              "      <td>0.677543</td>\n",
              "      <td>0.981854</td>\n",
              "      <td>0.645400</td>\n",
              "    </tr>\n",
              "    <tr>\n",
              "      <th>8</th>\n",
              "      <td>0.881169</td>\n",
              "      <td>0.688886</td>\n",
              "      <td>0.901272</td>\n",
              "      <td>0.676067</td>\n",
              "    </tr>\n",
              "    <tr>\n",
              "      <th>9</th>\n",
              "      <td>0.843193</td>\n",
              "      <td>0.707771</td>\n",
              "      <td>1.075083</td>\n",
              "      <td>0.628467</td>\n",
              "    </tr>\n",
              "    <tr>\n",
              "      <th>10</th>\n",
              "      <td>0.817827</td>\n",
              "      <td>0.714971</td>\n",
              "      <td>0.837323</td>\n",
              "      <td>0.704667</td>\n",
              "    </tr>\n",
              "    <tr>\n",
              "      <th>11</th>\n",
              "      <td>0.784835</td>\n",
              "      <td>0.728343</td>\n",
              "      <td>0.868759</td>\n",
              "      <td>0.696333</td>\n",
              "    </tr>\n",
              "    <tr>\n",
              "      <th>12</th>\n",
              "      <td>0.766659</td>\n",
              "      <td>0.733743</td>\n",
              "      <td>0.785951</td>\n",
              "      <td>0.720467</td>\n",
              "    </tr>\n",
              "    <tr>\n",
              "      <th>13</th>\n",
              "      <td>0.740701</td>\n",
              "      <td>0.744029</td>\n",
              "      <td>1.166831</td>\n",
              "      <td>0.617533</td>\n",
              "    </tr>\n",
              "    <tr>\n",
              "      <th>14</th>\n",
              "      <td>0.725908</td>\n",
              "      <td>0.747314</td>\n",
              "      <td>0.941555</td>\n",
              "      <td>0.689600</td>\n",
              "    </tr>\n",
              "    <tr>\n",
              "      <th>15</th>\n",
              "      <td>0.709009</td>\n",
              "      <td>0.755829</td>\n",
              "      <td>0.840746</td>\n",
              "      <td>0.705867</td>\n",
              "    </tr>\n",
              "    <tr>\n",
              "      <th>16</th>\n",
              "      <td>0.689994</td>\n",
              "      <td>0.761486</td>\n",
              "      <td>0.779664</td>\n",
              "      <td>0.733733</td>\n",
              "    </tr>\n",
              "    <tr>\n",
              "      <th>17</th>\n",
              "      <td>0.675514</td>\n",
              "      <td>0.765057</td>\n",
              "      <td>0.810705</td>\n",
              "      <td>0.723667</td>\n",
              "    </tr>\n",
              "    <tr>\n",
              "      <th>18</th>\n",
              "      <td>0.657334</td>\n",
              "      <td>0.774600</td>\n",
              "      <td>0.824225</td>\n",
              "      <td>0.712933</td>\n",
              "    </tr>\n",
              "    <tr>\n",
              "      <th>19</th>\n",
              "      <td>0.645953</td>\n",
              "      <td>0.778771</td>\n",
              "      <td>0.826603</td>\n",
              "      <td>0.723200</td>\n",
              "    </tr>\n",
              "    <tr>\n",
              "      <th>20</th>\n",
              "      <td>0.637891</td>\n",
              "      <td>0.778686</td>\n",
              "      <td>0.849906</td>\n",
              "      <td>0.712400</td>\n",
              "    </tr>\n",
              "    <tr>\n",
              "      <th>21</th>\n",
              "      <td>0.628663</td>\n",
              "      <td>0.784743</td>\n",
              "      <td>0.762509</td>\n",
              "      <td>0.734867</td>\n",
              "    </tr>\n",
              "    <tr>\n",
              "      <th>22</th>\n",
              "      <td>0.613155</td>\n",
              "      <td>0.788343</td>\n",
              "      <td>0.751835</td>\n",
              "      <td>0.742800</td>\n",
              "    </tr>\n",
              "    <tr>\n",
              "      <th>23</th>\n",
              "      <td>0.604350</td>\n",
              "      <td>0.792314</td>\n",
              "      <td>0.770924</td>\n",
              "      <td>0.735333</td>\n",
              "    </tr>\n",
              "    <tr>\n",
              "      <th>24</th>\n",
              "      <td>0.594551</td>\n",
              "      <td>0.793429</td>\n",
              "      <td>0.674854</td>\n",
              "      <td>0.769133</td>\n",
              "    </tr>\n",
              "  </tbody>\n",
              "</table>\n",
              "</div>\n",
              "      <button class=\"colab-df-convert\" onclick=\"convertToInteractive('df-c08a86ab-ff05-4eda-b7a7-e82f7052f51c')\"\n",
              "              title=\"Convert this dataframe to an interactive table.\"\n",
              "              style=\"display:none;\">\n",
              "        \n",
              "  <svg xmlns=\"http://www.w3.org/2000/svg\" height=\"24px\"viewBox=\"0 0 24 24\"\n",
              "       width=\"24px\">\n",
              "    <path d=\"M0 0h24v24H0V0z\" fill=\"none\"/>\n",
              "    <path d=\"M18.56 5.44l.94 2.06.94-2.06 2.06-.94-2.06-.94-.94-2.06-.94 2.06-2.06.94zm-11 1L8.5 8.5l.94-2.06 2.06-.94-2.06-.94L8.5 2.5l-.94 2.06-2.06.94zm10 10l.94 2.06.94-2.06 2.06-.94-2.06-.94-.94-2.06-.94 2.06-2.06.94z\"/><path d=\"M17.41 7.96l-1.37-1.37c-.4-.4-.92-.59-1.43-.59-.52 0-1.04.2-1.43.59L10.3 9.45l-7.72 7.72c-.78.78-.78 2.05 0 2.83L4 21.41c.39.39.9.59 1.41.59.51 0 1.02-.2 1.41-.59l7.78-7.78 2.81-2.81c.8-.78.8-2.07 0-2.86zM5.41 20L4 18.59l7.72-7.72 1.47 1.35L5.41 20z\"/>\n",
              "  </svg>\n",
              "      </button>\n",
              "      \n",
              "  <style>\n",
              "    .colab-df-container {\n",
              "      display:flex;\n",
              "      flex-wrap:wrap;\n",
              "      gap: 12px;\n",
              "    }\n",
              "\n",
              "    .colab-df-convert {\n",
              "      background-color: #E8F0FE;\n",
              "      border: none;\n",
              "      border-radius: 50%;\n",
              "      cursor: pointer;\n",
              "      display: none;\n",
              "      fill: #1967D2;\n",
              "      height: 32px;\n",
              "      padding: 0 0 0 0;\n",
              "      width: 32px;\n",
              "    }\n",
              "\n",
              "    .colab-df-convert:hover {\n",
              "      background-color: #E2EBFA;\n",
              "      box-shadow: 0px 1px 2px rgba(60, 64, 67, 0.3), 0px 1px 3px 1px rgba(60, 64, 67, 0.15);\n",
              "      fill: #174EA6;\n",
              "    }\n",
              "\n",
              "    [theme=dark] .colab-df-convert {\n",
              "      background-color: #3B4455;\n",
              "      fill: #D2E3FC;\n",
              "    }\n",
              "\n",
              "    [theme=dark] .colab-df-convert:hover {\n",
              "      background-color: #434B5C;\n",
              "      box-shadow: 0px 1px 3px 1px rgba(0, 0, 0, 0.15);\n",
              "      filter: drop-shadow(0px 1px 2px rgba(0, 0, 0, 0.3));\n",
              "      fill: #FFFFFF;\n",
              "    }\n",
              "  </style>\n",
              "\n",
              "      <script>\n",
              "        const buttonEl =\n",
              "          document.querySelector('#df-c08a86ab-ff05-4eda-b7a7-e82f7052f51c button.colab-df-convert');\n",
              "        buttonEl.style.display =\n",
              "          google.colab.kernel.accessAllowed ? 'block' : 'none';\n",
              "\n",
              "        async function convertToInteractive(key) {\n",
              "          const element = document.querySelector('#df-c08a86ab-ff05-4eda-b7a7-e82f7052f51c');\n",
              "          const dataTable =\n",
              "            await google.colab.kernel.invokeFunction('convertToInteractive',\n",
              "                                                     [key], {});\n",
              "          if (!dataTable) return;\n",
              "\n",
              "          const docLinkHtml = 'Like what you see? Visit the ' +\n",
              "            '<a target=\"_blank\" href=https://colab.research.google.com/notebooks/data_table.ipynb>data table notebook</a>'\n",
              "            + ' to learn more about interactive tables.';\n",
              "          element.innerHTML = '';\n",
              "          dataTable['output_type'] = 'display_data';\n",
              "          await google.colab.output.renderOutput(dataTable, element);\n",
              "          const docLink = document.createElement('div');\n",
              "          docLink.innerHTML = docLinkHtml;\n",
              "          element.appendChild(docLink);\n",
              "        }\n",
              "      </script>\n",
              "    </div>\n",
              "  </div>\n",
              "  "
            ]
          },
          "metadata": {},
          "execution_count": 17
        }
      ]
    },
    {
      "cell_type": "markdown",
      "source": [
        "Como se puede observar la 3ra iteración tuvo el mejor accuracy con un loss menor."
      ],
      "metadata": {
        "id": "aYIgjoQANIGC"
      }
    },
    {
      "cell_type": "markdown",
      "source": [
        "# Accuracy vs Epochs"
      ],
      "metadata": {
        "id": "Yr4QA3OxC8Un"
      }
    },
    {
      "cell_type": "code",
      "source": [
        "# Run this cell to make the Accuracy vs Epochs plot\n",
        "\n",
        "acc_plot = frame.plot(y=[\"accuracy\", \"val_accuracy\"], title=\"Accuracy vs Epochs\", legend=True)\n",
        "acc_plot.set(xlabel=\"Epochs\", ylabel=\"Accuracy\")"
      ],
      "metadata": {
        "id": "37Q-5o2dBBM9",
        "colab": {
          "base_uri": "https://localhost:8080/",
          "height": 312
        },
        "outputId": "eaafed39-b542-4295-dcef-1badcb707331"
      },
      "execution_count": 19,
      "outputs": [
        {
          "output_type": "execute_result",
          "data": {
            "text/plain": [
              "[Text(0, 0.5, 'Accuracy'), Text(0.5, 0, 'Epochs')]"
            ]
          },
          "metadata": {},
          "execution_count": 19
        },
        {
          "output_type": "display_data",
          "data": {
            "text/plain": [
              "<Figure size 432x288 with 1 Axes>"
            ],
            "image/png": "[encoded data removed]"
          },
          "metadata": {
            "needs_background": "light"
          }
        }
      ]
    },
    {
      "cell_type": "markdown",
      "source": [
        "# Loss vs Epochs"
      ],
      "metadata": {
        "id": "HsrkSWulDDQi"
      }
    },
    {
      "cell_type": "code",
      "source": [
        "# Run this cell to make the Loss vs Epochs plot\n",
        "\n",
        "acc_plot = frame.plot(y=[\"loss\", \"val_loss\"], title = \"Loss vs Epochs\", legend=True)\n",
        "acc_plot.set(xlabel=\"Epochs\", ylabel=\"Loss\")"
      ],
      "metadata": {
        "id": "DhwdWSTiBBJa",
        "colab": {
          "base_uri": "https://localhost:8080/",
          "height": 312
        },
        "outputId": "4ef1c291-118c-4aa1-e9db-3853963bc82a"
      },
      "execution_count": 20,
      "outputs": [
        {
          "output_type": "execute_result",
          "data": {
            "text/plain": [
              "[Text(0, 0.5, 'Loss'), Text(0.5, 0, 'Epochs')]"
            ]
          },
          "metadata": {},
          "execution_count": 20
        },
        {
          "output_type": "display_data",
          "data": {
            "text/plain": [
              "<Figure size 432x288 with 1 Axes>"
            ],
            "image/png": "[encoded data removed]"
          },
          "metadata": {
            "needs_background": "light"
          }
        }
      ]
    },
    {
      "cell_type": "markdown",
      "source": [
        "# Evaluamos el modelo"
      ],
      "metadata": {
        "id": "tCPV-wCZDJHr"
      }
    },
    {
      "cell_type": "code",
      "source": [
        "def evaluate_model(model, scaled_test_images, test_labels):\n",
        "    \"\"\"\n",
        "    This function should evaluate the model on the scaled_test_images and test_labels. \n",
        "    Your function should return a tuple (test_loss, test_accuracy).\n",
        "    \"\"\"\n",
        "    loss, accuracy = model.evaluate(scaled_test_images, test_labels)\n",
        "    return (loss, accuracy)"
      ],
      "metadata": {
        "id": "5r-ImICuBIWB"
      },
      "execution_count": 21,
      "outputs": []
    },
    {
      "cell_type": "code",
      "source": [
        "test_loss, test_accuracy = evaluate_model(model, test_images, test_labels)\n",
        "print(f\"Test loss: {test_loss}\")\n",
        "print(f\"Test accuracy: {test_accuracy}\")"
      ],
      "metadata": {
        "id": "FFmquo_7BITT",
        "colab": {
          "base_uri": "https://localhost:8080/"
        },
        "outputId": "15f66aba-4180-43cf-cf39-85646b5d3f27"
      },
      "execution_count": 22,
      "outputs": [
        {
          "output_type": "stream",
          "name": "stdout",
          "text": [
            "313/313 [==============================] - 2s 5ms/step - loss: 0.6903 - accuracy: 0.7677\n",
            "Test loss: 0.6903119087219238\n",
            "Test accuracy: 0.7677000164985657\n"
          ]
        }
      ]
    },
    {
      "cell_type": "markdown",
      "source": [
        "# Predicciones"
      ],
      "metadata": {
        "id": "mFJolhW3Pr3u"
      }
    },
    {
      "cell_type": "code",
      "source": [
        "# Run this cell to get model predictions on randomly selected test images\n",
        "\n",
        "num_test_images = test_images.shape[0]\n",
        "\n",
        "random_inx = np.random.choice(num_test_images, 4)\n",
        "random_test_images = test_images[random_inx, ...]\n",
        "random_test_labels = test_labels[random_inx, ...]\n",
        "\n",
        "predictions = model.predict(random_test_images)\n",
        "\n",
        "fig, axes = plt.subplots(4, 2, figsize=(16, 12))\n",
        "fig.subplots_adjust(hspace=0.4, wspace=-0.2)\n",
        "\n",
        "for i, (prediction, image, label) in enumerate(zip(predictions, random_test_images, random_test_labels)):\n",
        "    axes[i, 0].imshow(np.squeeze(image))\n",
        "    axes[i, 0].get_xaxis().set_visible(False)\n",
        "    axes[i, 0].get_yaxis().set_visible(False)\n",
        "    axes[i, 0].text(10., -1.5, f'Digit {label}')\n",
        "    axes[i, 1].bar(np.arange(len(prediction)), prediction)\n",
        "    axes[i, 1].set_xticks(np.arange(len(prediction)))\n",
        "    axes[i, 1].set_title(f\"Categorical distribution. Model prediction: {np.argmax(prediction)}\")\n",
        "    \n",
        "plt.show()"
      ],
      "metadata": {
        "id": "eZDT17Q4BIQ5",
        "colab": {
          "base_uri": "https://localhost:8080/",
          "height": 733
        },
        "outputId": "fe08d451-25cd-4234-96fa-095301558f2d"
      },
      "execution_count": 23,
      "outputs": [
        {
          "output_type": "stream",
          "name": "stdout",
          "text": [
            "1/1 [==============================] - 0s 299ms/step\n"
          ]
        },
        {
          "output_type": "display_data",
          "data": {
            "text/plain": [
              "<Figure size 1152x864 with 8 Axes>"
            ],
            "image/png": "[encoded data removed]"
          },
          "metadata": {
            "needs_background": "light"
          }
        }
      ]
    },
    {
      "cell_type": "code",
      "source": [],
      "metadata": {
        "id": "ex9eiUL8zXak"
      },
      "execution_count": 23,
      "outputs": []
    }
  ]
}