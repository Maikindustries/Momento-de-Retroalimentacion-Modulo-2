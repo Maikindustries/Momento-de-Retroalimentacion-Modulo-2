{
  "nbformat": 4,
  "nbformat_minor": 0,
  "metadata": {
    "coursera": {
      "course_slug": "tensor-flow-2-1",
      "graded_item_id": "g0YqY",
      "launcher_item_id": "N6gmY"
    },
    "kernelspec": {
      "display_name": "Python 3",
      "language": "python",
      "name": "python3"
    },
    "language_info": {
      "codemirror_mode": {
        "name": "ipython",
        "version": 3
      },
      "file_extension": ".py",
      "mimetype": "text/x-python",
      "name": "python",
      "nbconvert_exporter": "python",
      "pygments_lexer": "ipython3",
      "version": "3.7.1"
    },
    "colab": {
      "provenance": [],
      "collapsed_sections": []
    },
    "accelerator": "GPU",
    "gpuClass": "standard"
  },
  "cells": [
    {
      "cell_type": "markdown",
      "source": [
        "#Momento de Retroalimentación: Módulo 2 Implementación de un modelo de deep learning\n",
        "Miguel Ángel Pérez López A01750145"
      ],
      "metadata": {
        "id": "EpBMxhYatxIv"
      }
    },
    {
      "cell_type": "markdown",
      "source": [
        "# Problema\n",
        "Clasificar un dataset de 50,000 imágenes en 10 categorías"
      ],
      "metadata": {
        "id": "jH5KDLRF1lHB"
      }
    },
    {
      "cell_type": "markdown",
      "source": [
        "# Importamos las librerías"
      ],
      "metadata": {
        "id": "7UcnjfIY1Zq5"
      }
    },
    {
      "cell_type": "code",
      "source": [
        "import keras\n",
        "import numpy as np\n",
        "import pandas as pd\n",
        "from keras import regularizers\n",
        "import matplotlib.pyplot as plt\n",
        "from keras.utils import np_utils\n",
        "from keras.datasets import cifar10\n",
        "from keras.models import Sequential\n",
        "from keras import datasets, layers, models\n",
        "from keras.layers import Dense, Dropout, BatchNormalization, Conv2D, MaxPooling2D, Flatten\n",
        "%matplotlib inline"
      ],
      "metadata": {
        "id": "xQ6mXiAK7q13"
      },
      "execution_count": 1,
      "outputs": []
    },
    {
      "cell_type": "markdown",
      "source": [
        "# Cargar el dataset"
      ],
      "metadata": {
        "id": "OEYbaPFQBg2Q"
      }
    },
    {
      "cell_type": "code",
      "source": [
        "(train_images, train_labels), (test_images, test_labels) = datasets.cifar10.load_data()"
      ],
      "metadata": {
        "id": "-yLT60U-7uHk",
        "colab": {
          "base_uri": "https://localhost:8080/"
        },
        "outputId": "9c1136a4-a143-4e0e-a2ca-aa4911bdad3d"
      },
      "execution_count": 2,
      "outputs": [
        {
          "output_type": "stream",
          "name": "stdout",
          "text": [
            "Downloading data from https://www.cs.toronto.edu/~kriz/cifar-10-python.tar.gz\n",
            "170498071/170498071 [==============================] - 14s 0us/step\n"
          ]
        }
      ]
    },
    {
      "cell_type": "markdown",
      "source": [
        "# Los labels son:\n",
        "0\tairplane \\\n",
        "1\tautomobile \\\n",
        "2\tbird \\\n",
        "3\tcat \\\n",
        "4\tdeer \\\n",
        "5\tdog \\\n",
        "6\tfrog \\\n",
        "7\thorse \\\n",
        "8\tship \\\n",
        "9\ttruck \\"
      ],
      "metadata": {
        "id": "bZ4x9bPfujrR"
      }
    },
    {
      "cell_type": "markdown",
      "source": [
        "Validamos que el shape del dataset sea correcto"
      ],
      "metadata": {
        "id": "8LhatuJMtYl4"
      }
    },
    {
      "cell_type": "code",
      "source": [
        "print(train_images.shape)\n",
        "print(train_labels.shape)"
      ],
      "metadata": {
        "id": "-Aaw3XHEPyLL",
        "colab": {
          "base_uri": "https://localhost:8080/"
        },
        "outputId": "88499414-851b-4ed2-ce49-0670d4fdf4f5"
      },
      "execution_count": 3,
      "outputs": [
        {
          "output_type": "stream",
          "name": "stdout",
          "text": [
            "(50000, 32, 32, 3)\n",
            "(50000, 1)\n"
          ]
        }
      ]
    },
    {
      "cell_type": "markdown",
      "source": [
        "# Separamos el dataset de train en train y validation\n",
        "El conjunto de validación se pasará como parámetro en el método fit"
      ],
      "metadata": {
        "id": "HPCMKukCBpUP"
      }
    },
    {
      "cell_type": "code",
      "source": [
        "from sklearn.model_selection import train_test_split\n",
        "train_images, validation_images, train_labels, validation_labels = train_test_split(train_images, train_labels, test_size=.3)"
      ],
      "metadata": {
        "id": "s4yC4aJvPEkm"
      },
      "execution_count": 4,
      "outputs": []
    },
    {
      "cell_type": "markdown",
      "source": [
        "Verificamos que las dimensiones sean correctas"
      ],
      "metadata": {
        "id": "KYMIbhbFB26M"
      }
    },
    {
      "cell_type": "code",
      "source": [
        "print(train_images.shape)\n",
        "print(train_labels.shape)\n",
        "print(validation_images.shape)\n",
        "print(validation_labels.shape)"
      ],
      "metadata": {
        "id": "SKfAYzIsQxGt",
        "colab": {
          "base_uri": "https://localhost:8080/"
        },
        "outputId": "0a7395a2-cd9f-4566-bc32-89488d8a8f13"
      },
      "execution_count": 5,
      "outputs": [
        {
          "output_type": "stream",
          "name": "stdout",
          "text": [
            "(35000, 32, 32, 3)\n",
            "(35000, 1)\n",
            "(15000, 32, 32, 3)\n",
            "(15000, 1)\n"
          ]
        }
      ]
    },
    {
      "cell_type": "code",
      "source": [
        "# Convertimos las imágenes a tipo float\n",
        "train_images = train_images.astype('float32')\n",
        "test_images = test_images.astype('float32')\n",
        "validation_images = validation_images.astype('float32')\n",
        "\n",
        "# Dividimos entre 255 para que los valores estén entre 0 y 1\n",
        "train_images = train_images / 255\n",
        "test_images = test_images / 255 \n",
        "validation_images = validation_images / 255\n",
        "\n",
        "# Le aplicamos one hot encoding a los labels\n",
        "num_classes = 10\n",
        "train_labels = np_utils.to_categorical(train_labels, num_classes)\n",
        "test_labels = np_utils.to_categorical(test_labels, num_classes)\n",
        "validation_labels = np_utils.to_categorical(validation_labels, num_classes)"
      ],
      "metadata": {
        "id": "jzjeee0p7wT5"
      },
      "execution_count": 6,
      "outputs": []
    },
    {
      "cell_type": "markdown",
      "source": [
        "# Definimos las capas de la red"
      ],
      "metadata": {
        "id": "VyC3-SGDCZzP"
      }
    },
    {
      "cell_type": "markdown",
      "source": [
        "1er iteración \\\n",
        "Para esta iteración incluí varias capas de maxpooling, en este caso ya no se podías poner más de esas porque las dimensiones se reducirían a menos de 1 y eso es un error. \\\n",
        "\n",
        "Esta primera iteración sólo fue para probar una red convolucional básica"
      ],
      "metadata": {
        "id": "07tGkiD-tCIc"
      }
    },
    {
      "cell_type": "code",
      "source": [
        "model  = Sequential([\n",
        "  Conv2D(256, kernel_size=4, padding='same', activation=\"relu\", input_shape=train_images[0].shape),\n",
        "  MaxPooling2D((2, 2)),\n",
        "  Conv2D(32, (3, 3), padding='same', activation='relu'),\n",
        "  MaxPooling2D(pool_size=2),\n",
        "  Conv2D(64, (3,3), padding='same', activation='relu'),\n",
        "  MaxPooling2D(pool_size=2),\n",
        "  Conv2D(64, (3,3), padding='same', activation='relu'),\n",
        "  MaxPooling2D(pool_size=2),\n",
        "  \n",
        "  Flatten(),\n",
        "  Dropout(0.2),\n",
        "  Dense(128, activation='relu'),\n",
        "  Dense(10, activation='softmax')\n",
        "])\n",
        "model.summary()"
      ],
      "metadata": {
        "colab": {
          "base_uri": "https://localhost:8080/"
        },
        "id": "usniIwp3si3Y",
        "outputId": "ff97ec77-d729-452b-83c9-b6bc092b56ef"
      },
      "execution_count": 7,
      "outputs": [
        {
          "output_type": "stream",
          "name": "stdout",
          "text": [
            "Model: \"sequential\"\n",
            "_________________________________________________________________\n",
            " Layer (type)                Output Shape              Param #   \n",
            "=================================================================\n",
            " conv2d (Conv2D)             (None, 32, 32, 256)       12544     \n",
            "                                                                 \n",
            " max_pooling2d (MaxPooling2D  (None, 16, 16, 256)      0         \n",
            " )                                                               \n",
            "                                                                 \n",
            " conv2d_1 (Conv2D)           (None, 16, 16, 32)        73760     \n",
            "                                                                 \n",
            " max_pooling2d_1 (MaxPooling  (None, 8, 8, 32)         0         \n",
            " 2D)                                                             \n",
            "                                                                 \n",
            " conv2d_2 (Conv2D)           (None, 8, 8, 64)          18496     \n",
            "                                                                 \n",
            " max_pooling2d_2 (MaxPooling  (None, 4, 4, 64)         0         \n",
            " 2D)                                                             \n",
            "                                                                 \n",
            " conv2d_3 (Conv2D)           (None, 4, 4, 64)          36928     \n",
            "                                                                 \n",
            " max_pooling2d_3 (MaxPooling  (None, 2, 2, 64)         0         \n",
            " 2D)                                                             \n",
            "                                                                 \n",
            " flatten (Flatten)           (None, 256)               0         \n",
            "                                                                 \n",
            " dropout (Dropout)           (None, 256)               0         \n",
            "                                                                 \n",
            " dense (Dense)               (None, 128)               32896     \n",
            "                                                                 \n",
            " dense_1 (Dense)             (None, 10)                1290      \n",
            "                                                                 \n",
            "=================================================================\n",
            "Total params: 175,914\n",
            "Trainable params: 175,914\n",
            "Non-trainable params: 0\n",
            "_________________________________________________________________\n"
          ]
        }
      ]
    },
    {
      "cell_type": "code",
      "source": [
        "model.compile(optimizer='adam', loss=keras.losses.categorical_crossentropy, metrics=['accuracy'])"
      ],
      "metadata": {
        "id": "--efXwcLs-cC"
      },
      "execution_count": 8,
      "outputs": []
    },
    {
      "cell_type": "code",
      "source": [
        "history = model.fit(train_images, train_labels, epochs=10,\n",
        "                    validation_data=(validation_images, validation_labels))"
      ],
      "metadata": {
        "colab": {
          "base_uri": "https://localhost:8080/"
        },
        "id": "byq5vCuhsiwb",
        "outputId": "7c360e13-b88d-4da5-f1be-b5f76afa2b95"
      },
      "execution_count": 9,
      "outputs": [
        {
          "output_type": "stream",
          "name": "stdout",
          "text": [
            "Epoch 1/10\n",
            "1094/1094 [==============================] - 19s 9ms/step - loss: 1.7157 - accuracy: 0.3664 - val_loss: 1.4576 - val_accuracy: 0.4668\n",
            "Epoch 2/10\n",
            "1094/1094 [==============================] - 10s 9ms/step - loss: 1.3962 - accuracy: 0.4931 - val_loss: 1.3264 - val_accuracy: 0.5220\n",
            "Epoch 3/10\n",
            "1094/1094 [==============================] - 9s 9ms/step - loss: 1.2590 - accuracy: 0.5468 - val_loss: 1.1988 - val_accuracy: 0.5711\n",
            "Epoch 4/10\n",
            "1094/1094 [==============================] - 11s 10ms/step - loss: 1.1599 - accuracy: 0.5831 - val_loss: 1.1435 - val_accuracy: 0.5861\n",
            "Epoch 5/10\n",
            "1094/1094 [==============================] - 10s 9ms/step - loss: 1.0760 - accuracy: 0.6145 - val_loss: 1.0859 - val_accuracy: 0.6132\n",
            "Epoch 6/10\n",
            "1094/1094 [==============================] - 10s 9ms/step - loss: 1.0110 - accuracy: 0.6402 - val_loss: 1.0669 - val_accuracy: 0.6219\n",
            "Epoch 7/10\n",
            "1094/1094 [==============================] - 10s 9ms/step - loss: 0.9581 - accuracy: 0.6583 - val_loss: 1.0554 - val_accuracy: 0.6261\n",
            "Epoch 8/10\n",
            "1094/1094 [==============================] - 9s 9ms/step - loss: 0.9140 - accuracy: 0.6745 - val_loss: 1.0063 - val_accuracy: 0.6465\n",
            "Epoch 9/10\n",
            "1094/1094 [==============================] - 9s 8ms/step - loss: 0.8672 - accuracy: 0.6908 - val_loss: 1.0114 - val_accuracy: 0.6457\n",
            "Epoch 10/10\n",
            "1094/1094 [==============================] - 10s 9ms/step - loss: 0.8388 - accuracy: 0.7003 - val_loss: 1.0073 - val_accuracy: 0.6449\n"
          ]
        }
      ]
    },
    {
      "cell_type": "markdown",
      "source": [
        "El accuracy es decente pero el validation accuracy es muy bajo. \\\n",
        "Un incremento de capas puede hacer que mejore."
      ],
      "metadata": {
        "id": "ouL_Iw084UOz"
      }
    },
    {
      "cell_type": "markdown",
      "source": [
        "2da iteración\n",
        "Agregué más capas convolucionales para ayudar a la red a que detecte más patrones. \\\n",
        "Además agregué capas después del Flatten para que la red sea más profunda.\n"
      ],
      "metadata": {
        "id": "3hPuGgYftGrk"
      }
    },
    {
      "cell_type": "code",
      "source": [
        "model  = Sequential([\n",
        "  Conv2D(256, kernel_size=4, padding='same', activation=\"relu\", input_shape=train_images[0].shape),\n",
        "  MaxPooling2D((2, 2)),\n",
        "  Conv2D(32, (3, 3), padding='same', activation='relu'),\n",
        "  Conv2D(32, (3, 3), padding='same', activation='relu'),\n",
        "  MaxPooling2D(pool_size=2),\n",
        "  Conv2D(64, (3,3), padding='same', activation='relu'),\n",
        "  Conv2D(64, (3,3), padding='same', activation='relu'),\n",
        "  MaxPooling2D(pool_size=2),\n",
        "  Conv2D(8, (3,3), padding='same', activation=\"relu\"),\n",
        "  MaxPooling2D(pool_size=2),\n",
        "  \n",
        "  Flatten(),\n",
        "  Dropout(0.2),\n",
        "  Dense(128, activation='relu'),\n",
        "  Dense(64, activation='relu'),\n",
        "  Dense(32, activation='relu'),\n",
        "  Dense(16, activation='relu'),\n",
        "  Dense(10, activation='softmax')\n",
        "])\n",
        "model.summary()"
      ],
      "metadata": {
        "id": "4IyZLI1lDbnz",
        "colab": {
          "base_uri": "https://localhost:8080/"
        },
        "outputId": "74cd84f1-d0e4-48bc-8a84-a4c9c27b73e4"
      },
      "execution_count": 10,
      "outputs": [
        {
          "output_type": "stream",
          "name": "stdout",
          "text": [
            "Model: \"sequential_1\"\n",
            "_________________________________________________________________\n",
            " Layer (type)                Output Shape              Param #   \n",
            "=================================================================\n",
            " conv2d_4 (Conv2D)           (None, 32, 32, 256)       12544     \n",
            "                                                                 \n",
            " max_pooling2d_4 (MaxPooling  (None, 16, 16, 256)      0         \n",
            " 2D)                                                             \n",
            "                                                                 \n",
            " conv2d_5 (Conv2D)           (None, 16, 16, 32)        73760     \n",
            "                                                                 \n",
            " conv2d_6 (Conv2D)           (None, 16, 16, 32)        9248      \n",
            "                                                                 \n",
            " max_pooling2d_5 (MaxPooling  (None, 8, 8, 32)         0         \n",
            " 2D)                                                             \n",
            "                                                                 \n",
            " conv2d_7 (Conv2D)           (None, 8, 8, 64)          18496     \n",
            "                                                                 \n",
            " conv2d_8 (Conv2D)           (None, 8, 8, 64)          36928     \n",
            "                                                                 \n",
            " max_pooling2d_6 (MaxPooling  (None, 4, 4, 64)         0         \n",
            " 2D)                                                             \n",
            "                                                                 \n",
            " conv2d_9 (Conv2D)           (None, 4, 4, 8)           4616      \n",
            "                                                                 \n",
            " max_pooling2d_7 (MaxPooling  (None, 2, 2, 8)          0         \n",
            " 2D)                                                             \n",
            "                                                                 \n",
            " flatten_1 (Flatten)         (None, 32)                0         \n",
            "                                                                 \n",
            " dropout_1 (Dropout)         (None, 32)                0         \n",
            "                                                                 \n",
            " dense_2 (Dense)             (None, 128)               4224      \n",
            "                                                                 \n",
            " dense_3 (Dense)             (None, 64)                8256      \n",
            "                                                                 \n",
            " dense_4 (Dense)             (None, 32)                2080      \n",
            "                                                                 \n",
            " dense_5 (Dense)             (None, 16)                528       \n",
            "                                                                 \n",
            " dense_6 (Dense)             (None, 10)                170       \n",
            "                                                                 \n",
            "=================================================================\n",
            "Total params: 170,850\n",
            "Trainable params: 170,850\n",
            "Non-trainable params: 0\n",
            "_________________________________________________________________\n"
          ]
        }
      ]
    },
    {
      "cell_type": "code",
      "source": [
        "model.compile(optimizer='adam', loss=keras.losses.categorical_crossentropy, metrics=['accuracy'])"
      ],
      "metadata": {
        "id": "oRKoc94gD-ww"
      },
      "execution_count": 11,
      "outputs": []
    },
    {
      "cell_type": "code",
      "source": [
        "history = model.fit(train_images, train_labels, epochs=10,\n",
        "                    validation_data=(validation_images, validation_labels))"
      ],
      "metadata": {
        "colab": {
          "base_uri": "https://localhost:8080/"
        },
        "id": "dchYBHXSDuTY",
        "outputId": "86cbd0cc-9bae-4496-dbdd-f337971610a2"
      },
      "execution_count": 12,
      "outputs": [
        {
          "output_type": "stream",
          "name": "stdout",
          "text": [
            "Epoch 1/10\n",
            "1094/1094 [==============================] - 11s 10ms/step - loss: 2.0866 - accuracy: 0.2007 - val_loss: 1.7449 - val_accuracy: 0.3330\n",
            "Epoch 2/10\n",
            "1094/1094 [==============================] - 11s 10ms/step - loss: 1.6620 - accuracy: 0.3691 - val_loss: 1.5168 - val_accuracy: 0.4273\n",
            "Epoch 3/10\n",
            "1094/1094 [==============================] - 11s 10ms/step - loss: 1.4806 - accuracy: 0.4478 - val_loss: 1.4163 - val_accuracy: 0.4703\n",
            "Epoch 4/10\n",
            "1094/1094 [==============================] - 11s 10ms/step - loss: 1.3712 - accuracy: 0.4907 - val_loss: 1.2950 - val_accuracy: 0.5367\n",
            "Epoch 5/10\n",
            "1094/1094 [==============================] - 12s 11ms/step - loss: 1.2823 - accuracy: 0.5311 - val_loss: 1.2291 - val_accuracy: 0.5552\n",
            "Epoch 6/10\n",
            "1094/1094 [==============================] - 11s 10ms/step - loss: 1.2202 - accuracy: 0.5564 - val_loss: 1.1903 - val_accuracy: 0.5710\n",
            "Epoch 7/10\n",
            "1094/1094 [==============================] - 11s 10ms/step - loss: 1.1674 - accuracy: 0.5787 - val_loss: 1.2519 - val_accuracy: 0.5614\n",
            "Epoch 8/10\n",
            "1094/1094 [==============================] - 11s 10ms/step - loss: 1.1273 - accuracy: 0.5940 - val_loss: 1.1379 - val_accuracy: 0.5961\n",
            "Epoch 9/10\n",
            "1094/1094 [==============================] - 10s 9ms/step - loss: 1.0824 - accuracy: 0.6109 - val_loss: 1.1365 - val_accuracy: 0.5947\n",
            "Epoch 10/10\n",
            "1094/1094 [==============================] - 11s 10ms/step - loss: 1.0409 - accuracy: 0.6259 - val_loss: 1.1030 - val_accuracy: 0.6106\n"
          ]
        }
      ]
    },
    {
      "cell_type": "markdown",
      "source": [
        "El accuracy del conjunto de validación es muy bajo y el error fue demasiado alto, incluso mayor que la primer iteración. \\\n",
        "Después de correrlo varias veces se infiere que es por la red y no por los pesos aleatorios."
      ],
      "metadata": {
        "id": "Ufpj2eK3Dx95"
      }
    },
    {
      "cell_type": "markdown",
      "source": [
        "3ra iteración\n",
        "\n",
        "Agregué más capas de convolución y reduje la cantidad de capas después del Flatten"
      ],
      "metadata": {
        "id": "4kQtmRYftJlN"
      }
    },
    {
      "cell_type": "code",
      "source": [
        "model  = Sequential([\n",
        "    Conv2D(64, (3, 3), padding='same', activation=\"relu\", input_shape=train_images[0].shape),\n",
        "    BatchNormalization(),\n",
        "    Conv2D(64, (3, 3), padding='same', activation='relu'),\n",
        "    Conv2D(32, (3, 3), padding='same', activation='relu'),\n",
        "    MaxPooling2D((2, 2)),\n",
        "    Dropout(0.3),\n",
        "\n",
        "    Conv2D(32, (3, 3), padding='same', activation='relu'),\n",
        "    Conv2D(32, (3, 3), padding='same', activation='relu'),\n",
        "    BatchNormalization(),\n",
        "    MaxPooling2D(pool_size=2),\n",
        "    Conv2D(16, (3, 3), padding='same', activation='relu'),\n",
        "    \n",
        "    Conv2D(16, (3,3), padding='same', activation='relu'),\n",
        "    Conv2D(16, (3,3), padding='same', activation='relu'),\n",
        "    BatchNormalization(),\n",
        "    MaxPooling2D(pool_size=2),\n",
        "    Conv2D(8, (3,3), padding='same', activation='relu'),\n",
        "    \n",
        "    Conv2D(8, (3,3), padding='same', activation=\"relu\"),\n",
        "    Conv2D(8, (3,3), padding='same', activation=\"relu\"),\n",
        "    BatchNormalization(),\n",
        "    MaxPooling2D(pool_size=2),\n",
        "    Dropout(0.2),\n",
        "    \n",
        "    Flatten(),\n",
        "    Dense(256, activation='relu'),\n",
        "    Dropout(0.2),\n",
        "    Dense(128, activation='relu'),\n",
        "    Dense(10, activation='softmax')\n",
        "  ])\n",
        "model.summary()"
      ],
      "metadata": {
        "id": "Ub3r_8WS7wRK",
        "colab": {
          "base_uri": "https://localhost:8080/"
        },
        "outputId": "0e1909bc-b7d4-4e30-beae-89f4e27073ff"
      },
      "execution_count": 13,
      "outputs": [
        {
          "output_type": "stream",
          "name": "stdout",
          "text": [
            "Model: \"sequential_2\"\n",
            "_________________________________________________________________\n",
            " Layer (type)                Output Shape              Param #   \n",
            "=================================================================\n",
            " conv2d_10 (Conv2D)          (None, 32, 32, 64)        1792      \n",
            "                                                                 \n",
            " batch_normalization (BatchN  (None, 32, 32, 64)       256       \n",
            " ormalization)                                                   \n",
            "                                                                 \n",
            " conv2d_11 (Conv2D)          (None, 32, 32, 64)        36928     \n",
            "                                                                 \n",
            " conv2d_12 (Conv2D)          (None, 32, 32, 32)        18464     \n",
            "                                                                 \n",
            " max_pooling2d_8 (MaxPooling  (None, 16, 16, 32)       0         \n",
            " 2D)                                                             \n",
            "                                                                 \n",
            " dropout_2 (Dropout)         (None, 16, 16, 32)        0         \n",
            "                                                                 \n",
            " conv2d_13 (Conv2D)          (None, 16, 16, 32)        9248      \n",
            "                                                                 \n",
            " conv2d_14 (Conv2D)          (None, 16, 16, 32)        9248      \n",
            "                                                                 \n",
            " batch_normalization_1 (Batc  (None, 16, 16, 32)       128       \n",
            " hNormalization)                                                 \n",
            "                                                                 \n",
            " max_pooling2d_9 (MaxPooling  (None, 8, 8, 32)         0         \n",
            " 2D)                                                             \n",
            "                                                                 \n",
            " conv2d_15 (Conv2D)          (None, 8, 8, 16)          4624      \n",
            "                                                                 \n",
            " conv2d_16 (Conv2D)          (None, 8, 8, 16)          2320      \n",
            "                                                                 \n",
            " conv2d_17 (Conv2D)          (None, 8, 8, 16)          2320      \n",
            "                                                                 \n",
            " batch_normalization_2 (Batc  (None, 8, 8, 16)         64        \n",
            " hNormalization)                                                 \n",
            "                                                                 \n",
            " max_pooling2d_10 (MaxPoolin  (None, 4, 4, 16)         0         \n",
            " g2D)                                                            \n",
            "                                                                 \n",
            " conv2d_18 (Conv2D)          (None, 4, 4, 8)           1160      \n",
            "                                                                 \n",
            " conv2d_19 (Conv2D)          (None, 4, 4, 8)           584       \n",
            "                                                                 \n",
            " conv2d_20 (Conv2D)          (None, 4, 4, 8)           584       \n",
            "                                                                 \n",
            " batch_normalization_3 (Batc  (None, 4, 4, 8)          32        \n",
            " hNormalization)                                                 \n",
            "                                                                 \n",
            " max_pooling2d_11 (MaxPoolin  (None, 2, 2, 8)          0         \n",
            " g2D)                                                            \n",
            "                                                                 \n",
            " dropout_3 (Dropout)         (None, 2, 2, 8)           0         \n",
            "                                                                 \n",
            " flatten_2 (Flatten)         (None, 32)                0         \n",
            "                                                                 \n",
            " dense_7 (Dense)             (None, 256)               8448      \n",
            "                                                                 \n",
            " dropout_4 (Dropout)         (None, 256)               0         \n",
            "                                                                 \n",
            " dense_8 (Dense)             (None, 128)               32896     \n",
            "                                                                 \n",
            " dense_9 (Dense)             (None, 10)                1290      \n",
            "                                                                 \n",
            "=================================================================\n",
            "Total params: 130,386\n",
            "Trainable params: 130,146\n",
            "Non-trainable params: 240\n",
            "_________________________________________________________________\n"
          ]
        }
      ]
    },
    {
      "cell_type": "markdown",
      "source": [
        "Compilamos el modelo"
      ],
      "metadata": {
        "id": "tt1Y3q4PULnA"
      }
    },
    {
      "cell_type": "code",
      "source": [
        "model.compile(optimizer='adam', loss=keras.losses.categorical_crossentropy, metrics=['accuracy'])"
      ],
      "metadata": {
        "id": "dmAZz96v7wOw"
      },
      "execution_count": 14,
      "outputs": []
    },
    {
      "cell_type": "markdown",
      "source": [
        "# Corremos el modelo final"
      ],
      "metadata": {
        "id": "JjhsNJVpCrIw"
      }
    },
    {
      "cell_type": "code",
      "source": [
        "history = model.fit(train_images, train_labels, epochs=25,\n",
        "                    validation_data=(validation_images, validation_labels))"
      ],
      "metadata": {
        "id": "32WECbJX7wLe",
        "colab": {
          "base_uri": "https://localhost:8080/"
        },
        "outputId": "131fc234-8c8d-4ed9-fc7e-29ebbc53186c"
      },
      "execution_count": 15,
      "outputs": [
        {
          "output_type": "stream",
          "name": "stdout",
          "text": [
            "Epoch 1/25\n",
            "1094/1094 [==============================] - 14s 11ms/step - loss: 1.7968 - accuracy: 0.3183 - val_loss: 1.6736 - val_accuracy: 0.3917\n",
            "Epoch 2/25\n",
            "1094/1094 [==============================] - 12s 11ms/step - loss: 1.4375 - accuracy: 0.4719 - val_loss: 1.3798 - val_accuracy: 0.4822\n",
            "Epoch 3/25\n",
            "1094/1094 [==============================] - 12s 11ms/step - loss: 1.2538 - accuracy: 0.5471 - val_loss: 1.2810 - val_accuracy: 0.5379\n",
            "Epoch 4/25\n",
            "1094/1094 [==============================] - 11s 10ms/step - loss: 1.1353 - accuracy: 0.5949 - val_loss: 1.1406 - val_accuracy: 0.5973\n",
            "Epoch 5/25\n",
            "1094/1094 [==============================] - 12s 11ms/step - loss: 1.0494 - accuracy: 0.6270 - val_loss: 1.1094 - val_accuracy: 0.5979\n",
            "Epoch 6/25\n",
            "1094/1094 [==============================] - 11s 10ms/step - loss: 0.9950 - accuracy: 0.6453 - val_loss: 1.5020 - val_accuracy: 0.5335\n",
            "Epoch 7/25\n",
            "1094/1094 [==============================] - 13s 12ms/step - loss: 0.9561 - accuracy: 0.6595 - val_loss: 0.9484 - val_accuracy: 0.6648\n",
            "Epoch 8/25\n",
            "1094/1094 [==============================] - 11s 10ms/step - loss: 0.9085 - accuracy: 0.6767 - val_loss: 0.9373 - val_accuracy: 0.6745\n",
            "Epoch 9/25\n",
            "1094/1094 [==============================] - 12s 11ms/step - loss: 0.8741 - accuracy: 0.6913 - val_loss: 0.9619 - val_accuracy: 0.6565\n",
            "Epoch 10/25\n",
            "1094/1094 [==============================] - 11s 10ms/step - loss: 0.8523 - accuracy: 0.6984 - val_loss: 0.9207 - val_accuracy: 0.6782\n",
            "Epoch 11/25\n",
            "1094/1094 [==============================] - 12s 11ms/step - loss: 0.8240 - accuracy: 0.7130 - val_loss: 0.8467 - val_accuracy: 0.7067\n",
            "Epoch 12/25\n",
            "1094/1094 [==============================] - 12s 11ms/step - loss: 0.7968 - accuracy: 0.7212 - val_loss: 0.8684 - val_accuracy: 0.7018\n",
            "Epoch 13/25\n",
            "1094/1094 [==============================] - 11s 10ms/step - loss: 0.7819 - accuracy: 0.7289 - val_loss: 0.8153 - val_accuracy: 0.7147\n",
            "Epoch 14/25\n",
            "1094/1094 [==============================] - 11s 10ms/step - loss: 0.7551 - accuracy: 0.7371 - val_loss: 0.8496 - val_accuracy: 0.7064\n",
            "Epoch 15/25\n",
            "1094/1094 [==============================] - 13s 12ms/step - loss: 0.7395 - accuracy: 0.7417 - val_loss: 0.7940 - val_accuracy: 0.7247\n",
            "Epoch 16/25\n",
            "1094/1094 [==============================] - 11s 10ms/step - loss: 0.7211 - accuracy: 0.7512 - val_loss: 0.8416 - val_accuracy: 0.7133\n",
            "Epoch 17/25\n",
            "1094/1094 [==============================] - 11s 10ms/step - loss: 0.7093 - accuracy: 0.7540 - val_loss: 0.9177 - val_accuracy: 0.6897\n",
            "Epoch 18/25\n",
            "1094/1094 [==============================] - 12s 11ms/step - loss: 0.6972 - accuracy: 0.7594 - val_loss: 0.8580 - val_accuracy: 0.7092\n",
            "Epoch 19/25\n",
            "1094/1094 [==============================] - 11s 10ms/step - loss: 0.6797 - accuracy: 0.7654 - val_loss: 0.8364 - val_accuracy: 0.7209\n",
            "Epoch 20/25\n",
            "1094/1094 [==============================] - 13s 12ms/step - loss: 0.6706 - accuracy: 0.7685 - val_loss: 0.7756 - val_accuracy: 0.7373\n",
            "Epoch 21/25\n",
            "1094/1094 [==============================] - 11s 10ms/step - loss: 0.6622 - accuracy: 0.7705 - val_loss: 0.7547 - val_accuracy: 0.7413\n",
            "Epoch 22/25\n",
            "1094/1094 [==============================] - 12s 11ms/step - loss: 0.6425 - accuracy: 0.7787 - val_loss: 0.7232 - val_accuracy: 0.7525\n",
            "Epoch 23/25\n",
            "1094/1094 [==============================] - 12s 11ms/step - loss: 0.6338 - accuracy: 0.7837 - val_loss: 0.7686 - val_accuracy: 0.7403\n",
            "Epoch 24/25\n",
            "1094/1094 [==============================] - 13s 11ms/step - loss: 0.6260 - accuracy: 0.7848 - val_loss: 0.7188 - val_accuracy: 0.7573\n",
            "Epoch 25/25\n",
            "1094/1094 [==============================] - 11s 10ms/step - loss: 0.6144 - accuracy: 0.7896 - val_loss: 0.7666 - val_accuracy: 0.7417\n"
          ]
        }
      ]
    },
    {
      "cell_type": "code",
      "source": [
        "# Cargamos el history del modelo en un dataframe\n",
        "frame = pd.DataFrame(history.history)"
      ],
      "metadata": {
        "id": "0Cq43L7Q7wBB"
      },
      "execution_count": 16,
      "outputs": []
    },
    {
      "cell_type": "code",
      "source": [
        "frame"
      ],
      "metadata": {
        "id": "uoXVdZsfBBQb",
        "colab": {
          "base_uri": "https://localhost:8080/",
          "height": 833
        },
        "outputId": "41787627-23df-4689-8037-fc6e9da4b162"
      },
      "execution_count": 17,
      "outputs": [
        {
          "output_type": "execute_result",
          "data": {
            "text/plain": [
              "        loss  accuracy  val_loss  val_accuracy\n",
              "0   1.796764  0.318343  1.673612      0.391667\n",
              "1   1.437484  0.471886  1.379848      0.482200\n",
              "2   1.253844  0.547114  1.280985      0.537867\n",
              "3   1.135251  0.594914  1.140567      0.597333\n",
              "4   1.049356  0.626971  1.109424      0.597867\n",
              "5   0.994951  0.645314  1.502032      0.533467\n",
              "6   0.956135  0.659457  0.948404      0.664800\n",
              "7   0.908537  0.676714  0.937305      0.674467\n",
              "8   0.874074  0.691257  0.961886      0.656467\n",
              "9   0.852300  0.698371  0.920652      0.678200\n",
              "10  0.823984  0.713029  0.846671      0.706667\n",
              "11  0.796826  0.721171  0.868449      0.701800\n",
              "12  0.781895  0.728943  0.815302      0.714667\n",
              "13  0.755121  0.737114  0.849567      0.706400\n",
              "14  0.739500  0.741743  0.794002      0.724667\n",
              "15  0.721146  0.751229  0.841592      0.713333\n",
              "16  0.709288  0.754000  0.917703      0.689733\n",
              "17  0.697209  0.759400  0.858028      0.709200\n",
              "18  0.679668  0.765400  0.836376      0.720933\n",
              "19  0.670603  0.768514  0.775598      0.737267\n",
              "20  0.662241  0.770543  0.754674      0.741267\n",
              "21  0.642546  0.778743  0.723153      0.752467\n",
              "22  0.633847  0.783743  0.768580      0.740333\n",
              "23  0.625964  0.784800  0.718826      0.757333\n",
              "24  0.614391  0.789629  0.766552      0.741733"
            ],
            "text/html": [
              "\n",
              "  <div id=\"df-0b84734d-c02e-4a92-a05f-ac7594ad1256\">\n",
              "    <div class=\"colab-df-container\">\n",
              "      <div>\n",
              "<style scoped>\n",
              "    .dataframe tbody tr th:only-of-type {\n",
              "        vertical-align: middle;\n",
              "    }\n",
              "\n",
              "    .dataframe tbody tr th {\n",
              "        vertical-align: top;\n",
              "    }\n",
              "\n",
              "    .dataframe thead th {\n",
              "        text-align: right;\n",
              "    }\n",
              "</style>\n",
              "<table border=\"1\" class=\"dataframe\">\n",
              "  <thead>\n",
              "    <tr style=\"text-align: right;\">\n",
              "      <th></th>\n",
              "      <th>loss</th>\n",
              "      <th>accuracy</th>\n",
              "      <th>val_loss</th>\n",
              "      <th>val_accuracy</th>\n",
              "    </tr>\n",
              "  </thead>\n",
              "  <tbody>\n",
              "    <tr>\n",
              "      <th>0</th>\n",
              "      <td>1.796764</td>\n",
              "      <td>0.318343</td>\n",
              "      <td>1.673612</td>\n",
              "      <td>0.391667</td>\n",
              "    </tr>\n",
              "    <tr>\n",
              "      <th>1</th>\n",
              "      <td>1.437484</td>\n",
              "      <td>0.471886</td>\n",
              "      <td>1.379848</td>\n",
              "      <td>0.482200</td>\n",
              "    </tr>\n",
              "    <tr>\n",
              "      <th>2</th>\n",
              "      <td>1.253844</td>\n",
              "      <td>0.547114</td>\n",
              "      <td>1.280985</td>\n",
              "      <td>0.537867</td>\n",
              "    </tr>\n",
              "    <tr>\n",
              "      <th>3</th>\n",
              "      <td>1.135251</td>\n",
              "      <td>0.594914</td>\n",
              "      <td>1.140567</td>\n",
              "      <td>0.597333</td>\n",
              "    </tr>\n",
              "    <tr>\n",
              "      <th>4</th>\n",
              "      <td>1.049356</td>\n",
              "      <td>0.626971</td>\n",
              "      <td>1.109424</td>\n",
              "      <td>0.597867</td>\n",
              "    </tr>\n",
              "    <tr>\n",
              "      <th>5</th>\n",
              "      <td>0.994951</td>\n",
              "      <td>0.645314</td>\n",
              "      <td>1.502032</td>\n",
              "      <td>0.533467</td>\n",
              "    </tr>\n",
              "    <tr>\n",
              "      <th>6</th>\n",
              "      <td>0.956135</td>\n",
              "      <td>0.659457</td>\n",
              "      <td>0.948404</td>\n",
              "      <td>0.664800</td>\n",
              "    </tr>\n",
              "    <tr>\n",
              "      <th>7</th>\n",
              "      <td>0.908537</td>\n",
              "      <td>0.676714</td>\n",
              "      <td>0.937305</td>\n",
              "      <td>0.674467</td>\n",
              "    </tr>\n",
              "    <tr>\n",
              "      <th>8</th>\n",
              "      <td>0.874074</td>\n",
              "      <td>0.691257</td>\n",
              "      <td>0.961886</td>\n",
              "      <td>0.656467</td>\n",
              "    </tr>\n",
              "    <tr>\n",
              "      <th>9</th>\n",
              "      <td>0.852300</td>\n",
              "      <td>0.698371</td>\n",
              "      <td>0.920652</td>\n",
              "      <td>0.678200</td>\n",
              "    </tr>\n",
              "    <tr>\n",
              "      <th>10</th>\n",
              "      <td>0.823984</td>\n",
              "      <td>0.713029</td>\n",
              "      <td>0.846671</td>\n",
              "      <td>0.706667</td>\n",
              "    </tr>\n",
              "    <tr>\n",
              "      <th>11</th>\n",
              "      <td>0.796826</td>\n",
              "      <td>0.721171</td>\n",
              "      <td>0.868449</td>\n",
              "      <td>0.701800</td>\n",
              "    </tr>\n",
              "    <tr>\n",
              "      <th>12</th>\n",
              "      <td>0.781895</td>\n",
              "      <td>0.728943</td>\n",
              "      <td>0.815302</td>\n",
              "      <td>0.714667</td>\n",
              "    </tr>\n",
              "    <tr>\n",
              "      <th>13</th>\n",
              "      <td>0.755121</td>\n",
              "      <td>0.737114</td>\n",
              "      <td>0.849567</td>\n",
              "      <td>0.706400</td>\n",
              "    </tr>\n",
              "    <tr>\n",
              "      <th>14</th>\n",
              "      <td>0.739500</td>\n",
              "      <td>0.741743</td>\n",
              "      <td>0.794002</td>\n",
              "      <td>0.724667</td>\n",
              "    </tr>\n",
              "    <tr>\n",
              "      <th>15</th>\n",
              "      <td>0.721146</td>\n",
              "      <td>0.751229</td>\n",
              "      <td>0.841592</td>\n",
              "      <td>0.713333</td>\n",
              "    </tr>\n",
              "    <tr>\n",
              "      <th>16</th>\n",
              "      <td>0.709288</td>\n",
              "      <td>0.754000</td>\n",
              "      <td>0.917703</td>\n",
              "      <td>0.689733</td>\n",
              "    </tr>\n",
              "    <tr>\n",
              "      <th>17</th>\n",
              "      <td>0.697209</td>\n",
              "      <td>0.759400</td>\n",
              "      <td>0.858028</td>\n",
              "      <td>0.709200</td>\n",
              "    </tr>\n",
              "    <tr>\n",
              "      <th>18</th>\n",
              "      <td>0.679668</td>\n",
              "      <td>0.765400</td>\n",
              "      <td>0.836376</td>\n",
              "      <td>0.720933</td>\n",
              "    </tr>\n",
              "    <tr>\n",
              "      <th>19</th>\n",
              "      <td>0.670603</td>\n",
              "      <td>0.768514</td>\n",
              "      <td>0.775598</td>\n",
              "      <td>0.737267</td>\n",
              "    </tr>\n",
              "    <tr>\n",
              "      <th>20</th>\n",
              "      <td>0.662241</td>\n",
              "      <td>0.770543</td>\n",
              "      <td>0.754674</td>\n",
              "      <td>0.741267</td>\n",
              "    </tr>\n",
              "    <tr>\n",
              "      <th>21</th>\n",
              "      <td>0.642546</td>\n",
              "      <td>0.778743</td>\n",
              "      <td>0.723153</td>\n",
              "      <td>0.752467</td>\n",
              "    </tr>\n",
              "    <tr>\n",
              "      <th>22</th>\n",
              "      <td>0.633847</td>\n",
              "      <td>0.783743</td>\n",
              "      <td>0.768580</td>\n",
              "      <td>0.740333</td>\n",
              "    </tr>\n",
              "    <tr>\n",
              "      <th>23</th>\n",
              "      <td>0.625964</td>\n",
              "      <td>0.784800</td>\n",
              "      <td>0.718826</td>\n",
              "      <td>0.757333</td>\n",
              "    </tr>\n",
              "    <tr>\n",
              "      <th>24</th>\n",
              "      <td>0.614391</td>\n",
              "      <td>0.789629</td>\n",
              "      <td>0.766552</td>\n",
              "      <td>0.741733</td>\n",
              "    </tr>\n",
              "  </tbody>\n",
              "</table>\n",
              "</div>\n",
              "      <button class=\"colab-df-convert\" onclick=\"convertToInteractive('df-0b84734d-c02e-4a92-a05f-ac7594ad1256')\"\n",
              "              title=\"Convert this dataframe to an interactive table.\"\n",
              "              style=\"display:none;\">\n",
              "        \n",
              "  <svg xmlns=\"http://www.w3.org/2000/svg\" height=\"24px\"viewBox=\"0 0 24 24\"\n",
              "       width=\"24px\">\n",
              "    <path d=\"M0 0h24v24H0V0z\" fill=\"none\"/>\n",
              "    <path d=\"M18.56 5.44l.94 2.06.94-2.06 2.06-.94-2.06-.94-.94-2.06-.94 2.06-2.06.94zm-11 1L8.5 8.5l.94-2.06 2.06-.94-2.06-.94L8.5 2.5l-.94 2.06-2.06.94zm10 10l.94 2.06.94-2.06 2.06-.94-2.06-.94-.94-2.06-.94 2.06-2.06.94z\"/><path d=\"M17.41 7.96l-1.37-1.37c-.4-.4-.92-.59-1.43-.59-.52 0-1.04.2-1.43.59L10.3 9.45l-7.72 7.72c-.78.78-.78 2.05 0 2.83L4 21.41c.39.39.9.59 1.41.59.51 0 1.02-.2 1.41-.59l7.78-7.78 2.81-2.81c.8-.78.8-2.07 0-2.86zM5.41 20L4 18.59l7.72-7.72 1.47 1.35L5.41 20z\"/>\n",
              "  </svg>\n",
              "      </button>\n",
              "      \n",
              "  <style>\n",
              "    .colab-df-container {\n",
              "      display:flex;\n",
              "      flex-wrap:wrap;\n",
              "      gap: 12px;\n",
              "    }\n",
              "\n",
              "    .colab-df-convert {\n",
              "      background-color: #E8F0FE;\n",
              "      border: none;\n",
              "      border-radius: 50%;\n",
              "      cursor: pointer;\n",
              "      display: none;\n",
              "      fill: #1967D2;\n",
              "      height: 32px;\n",
              "      padding: 0 0 0 0;\n",
              "      width: 32px;\n",
              "    }\n",
              "\n",
              "    .colab-df-convert:hover {\n",
              "      background-color: #E2EBFA;\n",
              "      box-shadow: 0px 1px 2px rgba(60, 64, 67, 0.3), 0px 1px 3px 1px rgba(60, 64, 67, 0.15);\n",
              "      fill: #174EA6;\n",
              "    }\n",
              "\n",
              "    [theme=dark] .colab-df-convert {\n",
              "      background-color: #3B4455;\n",
              "      fill: #D2E3FC;\n",
              "    }\n",
              "\n",
              "    [theme=dark] .colab-df-convert:hover {\n",
              "      background-color: #434B5C;\n",
              "      box-shadow: 0px 1px 3px 1px rgba(0, 0, 0, 0.15);\n",
              "      filter: drop-shadow(0px 1px 2px rgba(0, 0, 0, 0.3));\n",
              "      fill: #FFFFFF;\n",
              "    }\n",
              "  </style>\n",
              "\n",
              "      <script>\n",
              "        const buttonEl =\n",
              "          document.querySelector('#df-0b84734d-c02e-4a92-a05f-ac7594ad1256 button.colab-df-convert');\n",
              "        buttonEl.style.display =\n",
              "          google.colab.kernel.accessAllowed ? 'block' : 'none';\n",
              "\n",
              "        async function convertToInteractive(key) {\n",
              "          const element = document.querySelector('#df-0b84734d-c02e-4a92-a05f-ac7594ad1256');\n",
              "          const dataTable =\n",
              "            await google.colab.kernel.invokeFunction('convertToInteractive',\n",
              "                                                     [key], {});\n",
              "          if (!dataTable) return;\n",
              "\n",
              "          const docLinkHtml = 'Like what you see? Visit the ' +\n",
              "            '<a target=\"_blank\" href=https://colab.research.google.com/notebooks/data_table.ipynb>data table notebook</a>'\n",
              "            + ' to learn more about interactive tables.';\n",
              "          element.innerHTML = '';\n",
              "          dataTable['output_type'] = 'display_data';\n",
              "          await google.colab.output.renderOutput(dataTable, element);\n",
              "          const docLink = document.createElement('div');\n",
              "          docLink.innerHTML = docLinkHtml;\n",
              "          element.appendChild(docLink);\n",
              "        }\n",
              "      </script>\n",
              "    </div>\n",
              "  </div>\n",
              "  "
            ]
          },
          "metadata": {},
          "execution_count": 17
        }
      ]
    },
    {
      "cell_type": "markdown",
      "source": [
        "Como se puede observar la 3ra iteración tuvo el mejor accuracy con un loss menor."
      ],
      "metadata": {
        "id": "aYIgjoQANIGC"
      }
    },
    {
      "cell_type": "markdown",
      "source": [
        "# Accuracy vs Epochs"
      ],
      "metadata": {
        "id": "Yr4QA3OxC8Un"
      }
    },
    {
      "cell_type": "code",
      "source": [
        "# Run this cell to make the Accuracy vs Epochs plot\n",
        "\n",
        "acc_plot = frame.plot(y=[\"accuracy\", \"val_accuracy\"], title=\"Accuracy vs Epochs\", legend=True)\n",
        "acc_plot.set(xlabel=\"Epochs\", ylabel=\"Accuracy\")"
      ],
      "metadata": {
        "id": "37Q-5o2dBBM9",
        "colab": {
          "base_uri": "https://localhost:8080/",
          "height": 312
        },
        "outputId": "efcb283e-0d11-4dcc-ee86-a7d941045c2a"
      },
      "execution_count": 18,
      "outputs": [
        {
          "output_type": "execute_result",
          "data": {
            "text/plain": [
              "[Text(0, 0.5, 'Accuracy'), Text(0.5, 0, 'Epochs')]"
            ]
          },
          "metadata": {},
          "execution_count": 18
        },
        {
          "output_type": "display_data",
          "data": {
            "text/plain": [
              "<Figure size 432x288 with 1 Axes>"
            ],
            "image/png": "[encoded data removed]"
          },
          "metadata": {
            "needs_background": "light"
          }
        }
      ]
    },
    {
      "cell_type": "markdown",
      "source": [
        "# Loss vs Epochs"
      ],
      "metadata": {
        "id": "HsrkSWulDDQi"
      }
    },
    {
      "cell_type": "code",
      "source": [
        "# Run this cell to make the Loss vs Epochs plot\n",
        "\n",
        "acc_plot = frame.plot(y=[\"loss\", \"val_loss\"], title = \"Loss vs Epochs\", legend=True)\n",
        "acc_plot.set(xlabel=\"Epochs\", ylabel=\"Loss\")"
      ],
      "metadata": {
        "id": "DhwdWSTiBBJa",
        "colab": {
          "base_uri": "https://localhost:8080/",
          "height": 312
        },
        "outputId": "560c8015-8a87-4f52-a520-b92611409546"
      },
      "execution_count": 19,
      "outputs": [
        {
          "output_type": "execute_result",
          "data": {
            "text/plain": [
              "[Text(0, 0.5, 'Loss'), Text(0.5, 0, 'Epochs')]"
            ]
          },
          "metadata": {},
          "execution_count": 19
        },
        {
          "output_type": "display_data",
          "data": {
            "text/plain": [
              "<Figure size 432x288 with 1 Axes>"
            ],
            "image/png": "[encoded data removed]"
          },
          "metadata": {
            "needs_background": "light"
          }
        }
      ]
    },
    {
      "cell_type": "markdown",
      "source": [
        "# Evaluamos el modelo"
      ],
      "metadata": {
        "id": "tCPV-wCZDJHr"
      }
    },
    {
      "cell_type": "code",
      "source": [
        "def evaluate_model(model, scaled_test_images, test_labels):\n",
        "    \"\"\"\n",
        "    This function should evaluate the model on the scaled_test_images and test_labels. \n",
        "    Your function should return a tuple (test_loss, test_accuracy).\n",
        "    \"\"\"\n",
        "    loss, accuracy = model.evaluate(scaled_test_images, test_labels)\n",
        "    return (loss, accuracy)"
      ],
      "metadata": {
        "id": "5r-ImICuBIWB"
      },
      "execution_count": 20,
      "outputs": []
    },
    {
      "cell_type": "code",
      "source": [
        "test_loss, test_accuracy = evaluate_model(model, test_images, test_labels)\n",
        "print(f\"Test loss: {test_loss}\")\n",
        "print(f\"Test accuracy: {test_accuracy}\")"
      ],
      "metadata": {
        "id": "FFmquo_7BITT",
        "colab": {
          "base_uri": "https://localhost:8080/"
        },
        "outputId": "e3b9a25c-acc8-4cda-eade-6f49475486f4"
      },
      "execution_count": 21,
      "outputs": [
        {
          "output_type": "stream",
          "name": "stdout",
          "text": [
            "313/313 [==============================] - 2s 6ms/step - loss: 0.7736 - accuracy: 0.7415\n",
            "Test loss: 0.7736485600471497\n",
            "Test accuracy: 0.7415000200271606\n"
          ]
        }
      ]
    },
    {
      "cell_type": "markdown",
      "source": [
        "# Predicciones"
      ],
      "metadata": {
        "id": "mFJolhW3Pr3u"
      }
    },
    {
      "cell_type": "code",
      "source": [
        "labels_dict = {\n",
        "    0:\t\"airplane\",\n",
        "    1:\t\"automobile\",\n",
        "    2:\t\"bird\",\n",
        "    3:\t\"cat\",\n",
        "    4:\t\"deer\",\n",
        "    5:\t\"dog\",\n",
        "    6:\t\"frog\",\n",
        "    7:\t\"horse\",\n",
        "    8:\t\"ship\",\n",
        "    9:\t\"truck\"\n",
        "}"
      ],
      "metadata": {
        "id": "y0OWzqW5xBqO"
      },
      "execution_count": 27,
      "outputs": []
    },
    {
      "cell_type": "code",
      "source": [
        "num_test_images = test_images.shape[0]\n",
        "\n",
        "random_inx = np.random.choice(num_test_images, 4)\n",
        "random_test_images = test_images[random_inx, ...]\n",
        "random_test_labels = test_labels[random_inx, ...]\n",
        "\n",
        "predictions = model.predict(random_test_images)\n",
        "\n",
        "fig, axes = plt.subplots(4, 2, figsize=(16, 12))\n",
        "fig.subplots_adjust(hspace=0.4, wspace=-0.2)\n",
        "\n",
        "for i, (prediction, image, label) in enumerate(zip(predictions, random_test_images, random_test_labels)):\n",
        "    axes[i, 0].imshow(np.squeeze(image))\n",
        "    axes[i, 0].get_xaxis().set_visible(False)\n",
        "    axes[i, 0].get_yaxis().set_visible(False)\n",
        "    axes[i, 0].text(10., -1.5, f'Digit {label}')\n",
        "    axes[i, 1].bar(np.arange(len(prediction)), prediction)\n",
        "    axes[i, 1].set_xticks(np.arange(len(prediction)))\n",
        "    max_probability = np.argmax(prediction)\n",
        "    probability = np.round(prediction[max_probability]*100,2)\n",
        "    axes[i, 1].set_title(f\"Categorical distribution. Model prediction: {labels_dict[max_probability]} {probability}%\")\n",
        "    \n",
        "plt.show()"
      ],
      "metadata": {
        "id": "eZDT17Q4BIQ5",
        "colab": {
          "base_uri": "https://localhost:8080/",
          "height": 733
        },
        "outputId": "41ed3d50-9db6-4597-9216-df0155715154"
      },
      "execution_count": 30,
      "outputs": [
        {
          "output_type": "stream",
          "name": "stdout",
          "text": [
            "1/1 [==============================] - 0s 20ms/step\n"
          ]
        },
        {
          "output_type": "display_data",
          "data": {
            "text/plain": [
              "<Figure size 1152x864 with 8 Axes>"
            ],
            "image/png": "[encoded data removed]"
          },
          "metadata": {
            "needs_background": "light"
          }
        }
      ]
    },
    {
      "cell_type": "code",
      "source": [],
      "metadata": {
        "id": "ex9eiUL8zXak"
      },
      "execution_count": 28,
      "outputs": []
    }
  ]
}